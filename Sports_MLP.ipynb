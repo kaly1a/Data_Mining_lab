{
  "nbformat": 4,
  "nbformat_minor": 0,
  "metadata": {
    "colab": {
      "name": "Sports_MLP.ipynb",
      "provenance": [],
      "include_colab_link": true
    },
    "kernelspec": {
      "name": "python3",
      "display_name": "Python 3"
    }
  },
  "cells": [
    {
      "cell_type": "markdown",
      "metadata": {
        "id": "view-in-github",
        "colab_type": "text"
      },
      "source": [
        "<a href=\"https://colab.research.google.com/github/kaly1a/Data_Mining_lab/blob/main/Sports_MLP.ipynb\" target=\"_parent\"><img src=\"https://colab.research.google.com/assets/colab-badge.svg\" alt=\"Open In Colab\"/></a>"
      ]
    },
    {
      "cell_type": "markdown",
      "metadata": {
        "id": "gRraV-aD9Czg"
      },
      "source": [
        "**SPORTS ARTICLES - OBJECTIVITY ANALYSIS**\n",
        "\n",
        "Building a model using MLP that will tell whether an article is labelled as subjective or objective.\n"
      ]
    },
    {
      "cell_type": "markdown",
      "metadata": {
        "id": "6tjj3L0M9cQW"
      },
      "source": [
        "**DATASET DESCRIPTION**\n",
        "\n",
        "**TextID**: text file name\n",
        "\n",
        "**URL**: link to article\n",
        "\n",
        "**Label**: objective vs. subjective\n",
        "\n",
        "**totalWordsCount:** total number of words in the article\n",
        "\n",
        "**semanticobjscore:** Frequency of words with an objective SENTIWORDNET score\n",
        "\n",
        "**semanticsubjscore:** Frequency of words with a subjective SENTIWORDNET score\n",
        "\n",
        "**CC:** Frequency of coordinating conjunctions\n",
        "\n",
        "**CD:** Frequency of numerals and cardinals\n",
        "\n",
        "**DT:** Frequency of determiners\n",
        "\n",
        "**EX:** Frequency of existential there\n",
        "\n",
        "**FW:** Frequency of foreign words\n",
        "\n",
        "**INs:** Frequency of subordinating preposition or conjunction\n",
        "\n",
        "**JJ:** Frequency of ordinal adjectives or numerals\n",
        "\n",
        "**JJR:** Frequency of comparative adjectives\n",
        "\n",
        "**JJS:** Frequency of superlative adjectives\n",
        "\n",
        "**LS:** Frequency of list item markers\n",
        "\n",
        "**MD:** Frequency of modal auxiliaries\n",
        "\n",
        "**NN:** Frequency of singular common nouns\n",
        "\n",
        "**NNP:** Frequency of singular proper nouns\n",
        "\n",
        "**NNPS:** Frequency of plural proper nouns\n",
        "\n",
        "**NNS:** Frequency of plural common nouns\n",
        "\n",
        "**PDT:** Frequency of pre-determiners\n",
        "\n",
        "**POS:** Frequency of genitive markers\n",
        "\n",
        "**PRP:** Frequency of personal pronouns\n",
        "\n",
        "**PRP:** Frequency of possessive pronouns\n",
        "\n",
        "**RB:** Frequency of adverbs\n",
        "\n",
        "**RBR:** Frequency of comparative adverbs\n",
        "\n",
        "**RBS:** Frequency of superlative adverbs\n",
        "\n",
        "**RP:** Frequency of particles\n",
        "\n",
        "**SYM:** Frequency of symbols\n",
        "\n",
        "**TOs:** Frequency of 'to' as preposition or infinitive marker\n",
        "\n",
        "**UH:** Frequency of interjections\n",
        "\n",
        "**VB:** Frequency of base form verbs\n",
        "\n",
        "**VBD:** Frequency of past tense verbs\n",
        "\n",
        "**VBG:** Frequency of present participle or gerund verbs\n",
        "\n",
        "**VBN:** Frequency of past participle verbs\n",
        "\n",
        "**VBP:** Frequency of present tense verbs with plural 3rd person subjects\n",
        "\n",
        "**VBZ:** Frequency of present tense verbs with singular 3rd person subjects\n",
        "\n",
        "**WDT:** Frequency of WH-determiners\n",
        "\n",
        "**WP:** Frequency of WH-pronouns\n",
        "\n",
        "**WP$:** Frequency of possessive WH-pronouns\n",
        "\n",
        "**WRB:** Frequency of WH-adverbs\n",
        "\n",
        "**baseform:** Frequency of infinitive verbs (base form verbs preceded by â€œtoâ€)\n",
        "\n",
        "**Quotes:** Frequency of quotation pairs in the entire article\n",
        "\n",
        "**questionmarks:** Frequency of questions marks in the entire article\n",
        "\n",
        "**exclamationmarks:** Frequency of exclamation marks in the entire article\n",
        "\n",
        "**fullstops:** Frequency of full stops\n",
        "\n",
        "**commas:** Frequency of commas\n",
        "\n",
        "**semicolon:** Frequency of semicolons\n",
        "\n",
        "**colon:** Frequency of colons\n",
        "\n",
        "**ellipsis:** Frequency of ellipsis\n",
        "\n",
        "**pronouns1st:** Frequency of first person pronouns (personal and possessive)\n",
        "\n",
        "**pronouns2nd:** Frequency of second person pronouns (personal and possessive)\n",
        "\n",
        "**pronouns3rd:** Frequency of third person pronouns (personal and possessive)\n",
        "\n",
        "**compsupadjadv:** Frequency of comparative and superlative adjectives and adverbs\n",
        "\n",
        "**past:** Frequency of past tense verbs with 1st and 2nd person pronouns\n",
        "\n",
        "**imperative:** Frequency of imperative verbs\n",
        "\n",
        "**present3rd:** Frequency of present tense verbs with 3rd person pronouns\n",
        "\n",
        "**present1st2nd:** Frequency of present tense verbs with 1st and 2nd person pronouns\n",
        "\n",
        "**sentence1st:** First sentence class\n",
        "\n",
        "**sentencelast:** Last sentence class\n",
        "\n",
        "**txtcomplexity:** Text complexity score"
      ]
    },
    {
      "cell_type": "code",
      "metadata": {
        "id": "bMPxBlWL3jmQ",
        "colab": {
          "resources": {
            "http://localhost:8080/nbextensions/google.colab/files.js": {
              "data": "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",
              "ok": true,
              "headers": [
                [
                  "content-type",
                  "application/javascript"
                ]
              ],
              "status": 200,
              "status_text": "OK"
            }
          },
          "base_uri": "https://localhost:8080/",
          "height": 73
        },
        "outputId": "70f0a8a7-4e05-4d31-f51d-9cf241278050"
      },
      "source": [
        "from google.colab import files\n",
        "uploaded = files.upload()"
      ],
      "execution_count": null,
      "outputs": [
        {
          "output_type": "display_data",
          "data": {
            "text/html": [
              "\n",
              "     <input type=\"file\" id=\"files-1f4fc041-1dc3-42df-b5e3-113e992a3dfe\" name=\"files[]\" multiple disabled\n",
              "        style=\"border:none\" />\n",
              "     <output id=\"result-1f4fc041-1dc3-42df-b5e3-113e992a3dfe\">\n",
              "      Upload widget is only available when the cell has been executed in the\n",
              "      current browser session. Please rerun this cell to enable.\n",
              "      </output>\n",
              "      <script src=\"/nbextensions/google.colab/files.js\"></script> "
            ],
            "text/plain": [
              "<IPython.core.display.HTML object>"
            ]
          },
          "metadata": {
            "tags": []
          }
        },
        {
          "output_type": "stream",
          "text": [
            "Saving new.XLSX to new.XLSX\n"
          ],
          "name": "stdout"
        }
      ]
    },
    {
      "cell_type": "code",
      "metadata": {
        "colab": {
          "base_uri": "https://localhost:8080/"
        },
        "id": "-3BDLVNx47hx",
        "outputId": "4349f884-6c99-4f13-beec-75cc7071c218"
      },
      "source": [
        "import numpy as np\n",
        "import pandas as pd\n",
        "df2 = pd.read_excel('new.XLSX')\n",
        "print(df2.head())\n",
        "print(df2['Label'].unique())"
      ],
      "execution_count": null,
      "outputs": [
        {
          "output_type": "stream",
          "text": [
            "       Label  totalWordsCount  ...  FW  txtcomplexity\n",
            "0  objective              109  ...   8             18\n",
            "1  objective              309  ...  35             14\n",
            "2  objective              149  ...  15             18\n",
            "3  objective              305  ...  37             20\n",
            "4  objective              491  ...  61             24\n",
            "\n",
            "[5 rows x 6 columns]\n",
            "['objective' 'subjective']\n"
          ],
          "name": "stdout"
        }
      ]
    },
    {
      "cell_type": "code",
      "metadata": {
        "colab": {
          "base_uri": "https://localhost:8080/",
          "height": 394
        },
        "id": "AIECpJRD5ZYQ",
        "outputId": "9292d181-9eb0-47ec-856e-7bf977c7bead"
      },
      "source": [
        "df2.describe(include='all')"
      ],
      "execution_count": null,
      "outputs": [
        {
          "output_type": "execute_result",
          "data": {
            "text/html": [
              "<div>\n",
              "<style scoped>\n",
              "    .dataframe tbody tr th:only-of-type {\n",
              "        vertical-align: middle;\n",
              "    }\n",
              "\n",
              "    .dataframe tbody tr th {\n",
              "        vertical-align: top;\n",
              "    }\n",
              "\n",
              "    .dataframe thead th {\n",
              "        text-align: right;\n",
              "    }\n",
              "</style>\n",
              "<table border=\"1\" class=\"dataframe\">\n",
              "  <thead>\n",
              "    <tr style=\"text-align: right;\">\n",
              "      <th></th>\n",
              "      <th>Label</th>\n",
              "      <th>totalWordsCount</th>\n",
              "      <th>semanticobjscore</th>\n",
              "      <th>semanticsubjscore</th>\n",
              "      <th>FW</th>\n",
              "      <th>txtcomplexity</th>\n",
              "    </tr>\n",
              "  </thead>\n",
              "  <tbody>\n",
              "    <tr>\n",
              "      <th>count</th>\n",
              "      <td>1000</td>\n",
              "      <td>1000.000000</td>\n",
              "      <td>1000.000000</td>\n",
              "      <td>1000.000000</td>\n",
              "      <td>1000.000000</td>\n",
              "      <td>1000.000000</td>\n",
              "    </tr>\n",
              "    <tr>\n",
              "      <th>unique</th>\n",
              "      <td>2</td>\n",
              "      <td>NaN</td>\n",
              "      <td>NaN</td>\n",
              "      <td>NaN</td>\n",
              "      <td>NaN</td>\n",
              "      <td>NaN</td>\n",
              "    </tr>\n",
              "    <tr>\n",
              "      <th>top</th>\n",
              "      <td>objective</td>\n",
              "      <td>NaN</td>\n",
              "      <td>NaN</td>\n",
              "      <td>NaN</td>\n",
              "      <td>NaN</td>\n",
              "      <td>NaN</td>\n",
              "    </tr>\n",
              "    <tr>\n",
              "      <th>freq</th>\n",
              "      <td>635</td>\n",
              "      <td>NaN</td>\n",
              "      <td>NaN</td>\n",
              "      <td>NaN</td>\n",
              "      <td>NaN</td>\n",
              "      <td>NaN</td>\n",
              "    </tr>\n",
              "    <tr>\n",
              "      <th>mean</th>\n",
              "      <td>NaN</td>\n",
              "      <td>697.120000</td>\n",
              "      <td>39.005000</td>\n",
              "      <td>13.934000</td>\n",
              "      <td>75.151000</td>\n",
              "      <td>19.142000</td>\n",
              "    </tr>\n",
              "    <tr>\n",
              "      <th>std</th>\n",
              "      <td>NaN</td>\n",
              "      <td>523.340997</td>\n",
              "      <td>32.134835</td>\n",
              "      <td>13.617528</td>\n",
              "      <td>55.927293</td>\n",
              "      <td>6.632483</td>\n",
              "    </tr>\n",
              "    <tr>\n",
              "      <th>min</th>\n",
              "      <td>NaN</td>\n",
              "      <td>47.000000</td>\n",
              "      <td>0.000000</td>\n",
              "      <td>0.000000</td>\n",
              "      <td>2.000000</td>\n",
              "      <td>5.000000</td>\n",
              "    </tr>\n",
              "    <tr>\n",
              "      <th>25%</th>\n",
              "      <td>NaN</td>\n",
              "      <td>272.000000</td>\n",
              "      <td>13.000000</td>\n",
              "      <td>4.000000</td>\n",
              "      <td>31.750000</td>\n",
              "      <td>15.000000</td>\n",
              "    </tr>\n",
              "    <tr>\n",
              "      <th>50%</th>\n",
              "      <td>NaN</td>\n",
              "      <td>626.000000</td>\n",
              "      <td>33.000000</td>\n",
              "      <td>10.000000</td>\n",
              "      <td>67.000000</td>\n",
              "      <td>18.000000</td>\n",
              "    </tr>\n",
              "    <tr>\n",
              "      <th>75%</th>\n",
              "      <td>NaN</td>\n",
              "      <td>953.250000</td>\n",
              "      <td>56.000000</td>\n",
              "      <td>20.250000</td>\n",
              "      <td>103.000000</td>\n",
              "      <td>22.000000</td>\n",
              "    </tr>\n",
              "    <tr>\n",
              "      <th>max</th>\n",
              "      <td>NaN</td>\n",
              "      <td>4283.000000</td>\n",
              "      <td>237.000000</td>\n",
              "      <td>97.000000</td>\n",
              "      <td>473.000000</td>\n",
              "      <td>73.000000</td>\n",
              "    </tr>\n",
              "  </tbody>\n",
              "</table>\n",
              "</div>"
            ],
            "text/plain": [
              "            Label  totalWordsCount  ...           FW  txtcomplexity\n",
              "count        1000      1000.000000  ...  1000.000000    1000.000000\n",
              "unique          2              NaN  ...          NaN            NaN\n",
              "top     objective              NaN  ...          NaN            NaN\n",
              "freq          635              NaN  ...          NaN            NaN\n",
              "mean          NaN       697.120000  ...    75.151000      19.142000\n",
              "std           NaN       523.340997  ...    55.927293       6.632483\n",
              "min           NaN        47.000000  ...     2.000000       5.000000\n",
              "25%           NaN       272.000000  ...    31.750000      15.000000\n",
              "50%           NaN       626.000000  ...    67.000000      18.000000\n",
              "75%           NaN       953.250000  ...   103.000000      22.000000\n",
              "max           NaN      4283.000000  ...   473.000000      73.000000\n",
              "\n",
              "[11 rows x 6 columns]"
            ]
          },
          "metadata": {
            "tags": []
          },
          "execution_count": 3
        }
      ]
    },
    {
      "cell_type": "code",
      "metadata": {
        "colab": {
          "base_uri": "https://localhost:8080/"
        },
        "id": "tXSaBmCr5dOJ",
        "outputId": "6ac5ccf0-34de-4630-d16c-d4cbc53737a9"
      },
      "source": [
        "X = df2.drop('Label', axis=1)\n",
        "Y = df2['Label']\n",
        "print(X.head(2))\n",
        "print(Y.head(2))"
      ],
      "execution_count": null,
      "outputs": [
        {
          "output_type": "stream",
          "text": [
            "   totalWordsCount  semanticobjscore  semanticsubjscore  FW  txtcomplexity\n",
            "0              109                 0                  1   8             18\n",
            "1              309                21                  4  35             14\n",
            "0    objective\n",
            "1    objective\n",
            "Name: Label, dtype: object\n"
          ],
          "name": "stdout"
        }
      ]
    },
    {
      "cell_type": "markdown",
      "metadata": {
        "id": "UTCtz9gJ7baB"
      },
      "source": [
        "**Splitting into training and testing**"
      ]
    },
    {
      "cell_type": "code",
      "metadata": {
        "colab": {
          "base_uri": "https://localhost:8080/"
        },
        "id": "ZQhXT7Mv7ZWf",
        "outputId": "8c2270cf-94d8-4d29-ef6e-f6a89df2d32a"
      },
      "source": [
        "from sklearn.model_selection import train_test_split\n",
        "X_train, X_test, Y_train, Y_test = train_test_split(X,Y,test_size=0.2)\n",
        "print(X_train.shape)\n",
        "print(Y_test.shape)"
      ],
      "execution_count": null,
      "outputs": [
        {
          "output_type": "stream",
          "text": [
            "(800, 5)\n",
            "(200,)\n"
          ],
          "name": "stdout"
        }
      ]
    },
    {
      "cell_type": "markdown",
      "metadata": {
        "id": "7kYklZpb8cz3"
      },
      "source": [
        "**Train the Model**"
      ]
    },
    {
      "cell_type": "code",
      "metadata": {
        "id": "PDzLoPf78XAL"
      },
      "source": [
        "from sklearn.neural_network import MLPClassifier"
      ],
      "execution_count": null,
      "outputs": []
    },
    {
      "cell_type": "code",
      "metadata": {
        "colab": {
          "base_uri": "https://localhost:8080/"
        },
        "id": "QNRP1HRc_a3X",
        "outputId": "0fcccbc3-eb2a-4ea7-c180-138b89692b9b"
      },
      "source": [
        "mlp = MLPClassifier(hidden_layer_sizes=(3,2), max_iter=500, activation='relu') #rectified linear unit\n",
        "mlp"
      ],
      "execution_count": null,
      "outputs": [
        {
          "output_type": "execute_result",
          "data": {
            "text/plain": [
              "MLPClassifier(activation='relu', alpha=0.0001, batch_size='auto', beta_1=0.9,\n",
              "              beta_2=0.999, early_stopping=False, epsilon=1e-08,\n",
              "              hidden_layer_sizes=(3, 2), learning_rate='constant',\n",
              "              learning_rate_init=0.001, max_fun=15000, max_iter=500,\n",
              "              momentum=0.9, n_iter_no_change=10, nesterovs_momentum=True,\n",
              "              power_t=0.5, random_state=None, shuffle=True, solver='adam',\n",
              "              tol=0.0001, validation_fraction=0.1, verbose=False,\n",
              "              warm_start=False)"
            ]
          },
          "metadata": {
            "tags": []
          },
          "execution_count": 12
        }
      ]
    },
    {
      "cell_type": "markdown",
      "metadata": {
        "id": "f6MggxEd_s20"
      },
      "source": [
        "**About Parameters**\n",
        "\n",
        "hidden_layer_sizestuple, length = n_layers - 2, default=(100,)\n",
        "\n",
        "    The ith element represents the number of neurons in the ith hidden layer.\n",
        "activation{‘identity’, ‘logistic’, ‘tanh’, ‘relu’}, default=’relu’\n",
        "\n",
        "    Activation function for the hidden layer.\n",
        "\n",
        "solver{‘lbfgs’, ‘sgd’, ‘adam’}, default=’adam’\n",
        "\n",
        "    The solver for weight optimization.\n",
        "\n",
        "alphafloat, default=0.0001\n",
        "\n",
        "    L2 penalty (regularization term) parameter.\n",
        "batch_sizeint, default=’auto’\n",
        "\n",
        "    Size of minibatches for stochastic optimizers. If the solver is ‘lbfgs’, the classifier will not use minibatch. When set to “auto”, batch_size=min(200, n_samples)\n",
        "learning_rate{‘constant’, ‘invscaling’, ‘adaptive’}, default=’constant’\n",
        "\n",
        "    Learning rate schedule for weight updates.\n",
        "\n",
        "learning_rate_initdouble, default=0.001\n",
        "\n",
        "    The initial learning rate used. It controls the step-size in updating the weights. Only used when solver=’sgd’ or ‘adam’.\n",
        "power_tdouble, default=0.5\n",
        "\n",
        "    The exponent for inverse scaling learning rate. It is used in updating effective learning rate when the learning_rate is set to ‘invscaling’. Only used when solver=’sgd’.\n",
        "max_iterint, default=200\n",
        "\n",
        "    Maximum number of iterations. The solver iterates until convergence (determined by ‘tol’) or this number of iterations. For stochastic solvers (‘sgd’, ‘adam’), note that this determines the number of epochs (how many times each data point will be used), not the number of gradient steps.\n",
        "shufflebool, default=True\n",
        "\n",
        "    Whether to shuffle samples in each iteration. Only used when solver=’sgd’ or ‘adam.\n",
        "\n"
      ]
    },
    {
      "cell_type": "markdown",
      "metadata": {
        "id": "k62s7V2FAcEE"
      },
      "source": [
        "**Training**"
      ]
    },
    {
      "cell_type": "code",
      "metadata": {
        "colab": {
          "base_uri": "https://localhost:8080/"
        },
        "id": "iJaNSXZf_rl9",
        "outputId": "c2c5fc35-2900-4a0c-8c5d-ba646dbae6e3"
      },
      "source": [
        "mlp.fit(X_train, Y_train)"
      ],
      "execution_count": null,
      "outputs": [
        {
          "output_type": "execute_result",
          "data": {
            "text/plain": [
              "MLPClassifier(activation='relu', alpha=0.0001, batch_size='auto', beta_1=0.9,\n",
              "              beta_2=0.999, early_stopping=False, epsilon=1e-08,\n",
              "              hidden_layer_sizes=(3, 2), learning_rate='constant',\n",
              "              learning_rate_init=0.001, max_fun=15000, max_iter=500,\n",
              "              momentum=0.9, n_iter_no_change=10, nesterovs_momentum=True,\n",
              "              power_t=0.5, random_state=None, shuffle=True, solver='adam',\n",
              "              tol=0.0001, validation_fraction=0.1, verbose=False,\n",
              "              warm_start=False)"
            ]
          },
          "metadata": {
            "tags": []
          },
          "execution_count": 13
        }
      ]
    },
    {
      "cell_type": "markdown",
      "metadata": {
        "id": "7CNOg_C_AtsI"
      },
      "source": [
        "**Testing**"
      ]
    },
    {
      "cell_type": "code",
      "metadata": {
        "colab": {
          "base_uri": "https://localhost:8080/"
        },
        "id": "IZYKsMS1Ayv5",
        "outputId": "dc725a14-8211-409e-c33b-f344fc27fb3a"
      },
      "source": [
        "pred = mlp.predict(X_test)\n",
        "pred"
      ],
      "execution_count": null,
      "outputs": [
        {
          "output_type": "execute_result",
          "data": {
            "text/plain": [
              "array(['objective', 'subjective', 'subjective', 'objective', 'subjective',\n",
              "       'objective', 'objective', 'objective', 'objective', 'objective',\n",
              "       'objective', 'objective', 'subjective', 'objective', 'subjective',\n",
              "       'objective', 'objective', 'objective', 'objective', 'objective',\n",
              "       'objective', 'objective', 'objective', 'subjective', 'objective',\n",
              "       'objective', 'objective', 'objective', 'subjective', 'objective',\n",
              "       'objective', 'subjective', 'subjective', 'objective', 'objective',\n",
              "       'objective', 'objective', 'objective', 'objective', 'objective',\n",
              "       'objective', 'objective', 'subjective', 'objective', 'objective',\n",
              "       'objective', 'objective', 'subjective', 'objective', 'objective',\n",
              "       'subjective', 'objective', 'objective', 'subjective', 'objective',\n",
              "       'objective', 'subjective', 'objective', 'objective', 'subjective',\n",
              "       'objective', 'objective', 'subjective', 'subjective', 'objective',\n",
              "       'objective', 'objective', 'subjective', 'objective', 'objective',\n",
              "       'subjective', 'subjective', 'objective', 'subjective',\n",
              "       'subjective', 'objective', 'subjective', 'subjective', 'objective',\n",
              "       'objective', 'objective', 'objective', 'subjective', 'objective',\n",
              "       'objective', 'subjective', 'subjective', 'subjective', 'objective',\n",
              "       'subjective', 'objective', 'objective', 'objective', 'objective',\n",
              "       'objective', 'objective', 'subjective', 'subjective', 'subjective',\n",
              "       'objective', 'objective', 'objective', 'subjective', 'objective',\n",
              "       'objective', 'subjective', 'objective', 'objective', 'objective',\n",
              "       'subjective', 'objective', 'objective', 'objective', 'objective',\n",
              "       'objective', 'objective', 'objective', 'objective', 'subjective',\n",
              "       'objective', 'objective', 'subjective', 'objective', 'subjective',\n",
              "       'objective', 'subjective', 'subjective', 'subjective',\n",
              "       'subjective', 'objective', 'objective', 'objective', 'subjective',\n",
              "       'objective', 'objective', 'subjective', 'objective', 'objective',\n",
              "       'objective', 'objective', 'subjective', 'objective', 'subjective',\n",
              "       'subjective', 'objective', 'objective', 'subjective', 'objective',\n",
              "       'objective', 'subjective', 'subjective', 'objective', 'objective',\n",
              "       'objective', 'objective', 'objective', 'objective', 'subjective',\n",
              "       'subjective', 'objective', 'objective', 'objective', 'objective',\n",
              "       'objective', 'objective', 'objective', 'objective', 'objective',\n",
              "       'objective', 'subjective', 'objective', 'subjective', 'subjective',\n",
              "       'objective', 'objective', 'objective', 'objective', 'objective',\n",
              "       'objective', 'objective', 'objective', 'objective', 'objective',\n",
              "       'subjective', 'subjective', 'objective', 'objective', 'subjective',\n",
              "       'objective', 'objective', 'subjective', 'subjective', 'subjective',\n",
              "       'objective', 'subjective', 'objective', 'objective', 'subjective',\n",
              "       'objective', 'subjective'], dtype='<U10')"
            ]
          },
          "metadata": {
            "tags": []
          },
          "execution_count": 14
        }
      ]
    },
    {
      "cell_type": "markdown",
      "metadata": {
        "id": "BUeZm4-cBMui"
      },
      "source": [
        "**Evaluation metrics - Confusion matrix and F1 score**"
      ]
    },
    {
      "cell_type": "code",
      "metadata": {
        "colab": {
          "base_uri": "https://localhost:8080/"
        },
        "id": "XSMrNUW_BXC_",
        "outputId": "cb2dbd89-008c-484f-c26d-07c46ffbcd33"
      },
      "source": [
        "from sklearn.metrics import classification_report,confusion_matrix\n",
        "res = confusion_matrix(Y_test,pred)\n",
        "print(res)"
      ],
      "execution_count": null,
      "outputs": [
        {
          "output_type": "stream",
          "text": [
            "[[102  22]\n",
            " [ 34  42]]\n"
          ],
          "name": "stdout"
        }
      ]
    },
    {
      "cell_type": "code",
      "metadata": {
        "colab": {
          "base_uri": "https://localhost:8080/"
        },
        "id": "OdJ6NXwBBkve",
        "outputId": "8bae2250-d8d3-4819-a2b2-7907c8c26303"
      },
      "source": [
        "print(classification_report(Y_test,pred))"
      ],
      "execution_count": null,
      "outputs": [
        {
          "output_type": "stream",
          "text": [
            "              precision    recall  f1-score   support\n",
            "\n",
            "   objective       0.75      0.82      0.78       124\n",
            "  subjective       0.66      0.55      0.60        76\n",
            "\n",
            "    accuracy                           0.72       200\n",
            "   macro avg       0.70      0.69      0.69       200\n",
            "weighted avg       0.71      0.72      0.71       200\n",
            "\n"
          ],
          "name": "stdout"
        }
      ]
    },
    {
      "cell_type": "code",
      "metadata": {
        "colab": {
          "base_uri": "https://localhost:8080/"
        },
        "id": "iHMk3mRmCjkn",
        "outputId": "300e3352-8877-4541-e736-055158b50c56"
      },
      "source": [
        "def accuracy(confusion_matrix):\n",
        "   diagonal_sum = confusion_matrix.trace()\n",
        "   sum_of_all_elements = confusion_matrix.sum()\n",
        "   return (diagonal_sum / sum_of_all_elements*100)\n",
        "#Printing the accuracy\n",
        "print(\"Accuracy of MLP Classifier : \", accuracy(res),\"%\")"
      ],
      "execution_count": null,
      "outputs": [
        {
          "output_type": "stream",
          "text": [
            "Accuracy of MLP Classifier :  72.0 %\n"
          ],
          "name": "stdout"
        }
      ]
    },
    {
      "cell_type": "markdown",
      "metadata": {
        "id": "vKwv5aWaBzp9"
      },
      "source": [
        "Accuracy found is: 72%"
      ]
    }
  ]
}