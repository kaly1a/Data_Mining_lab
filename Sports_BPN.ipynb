{
  "nbformat": 4,
  "nbformat_minor": 0,
  "metadata": {
    "colab": {
      "name": "Sports_BPN.ipynb",
      "provenance": [],
      "authorship_tag": "ABX9TyOw7+5FQn4kiyQtZ76jDP+o",
      "include_colab_link": true
    },
    "kernelspec": {
      "display_name": "Python 3",
      "name": "python3"
    }
  },
  "cells": [
    {
      "cell_type": "markdown",
      "metadata": {
        "id": "view-in-github",
        "colab_type": "text"
      },
      "source": [
        "<a href=\"https://colab.research.google.com/github/kaly1a/Data_Mining_lab/blob/main/Sports_BPN.ipynb\" target=\"_parent\"><img src=\"https://colab.research.google.com/assets/colab-badge.svg\" alt=\"Open In Colab\"/></a>"
      ]
    },
    {
      "cell_type": "markdown",
      "metadata": {
        "id": "w8GB_atjJLJl"
      },
      "source": [
        "**SPORTS ARTICLES - OBJECTIVITY ANALYSIS**\n",
        "\n",
        "Building a model using BPN that will tell whether an article is labelled as subjective or objective."
      ]
    },
    {
      "cell_type": "markdown",
      "metadata": {
        "id": "qt0jacGhJ2pt"
      },
      "source": [
        "**DATASET DESCRIPTION**\n",
        "\n",
        "**TextID**: text file name\n",
        "\n",
        "**URL**: link to article\n",
        "\n",
        "**Label**: objective vs. subjective\n",
        "\n",
        "**totalWordsCount:** total number of words in the article\n",
        "\n",
        "**semanticobjscore:** Frequency of words with an objective SENTIWORDNET score\n",
        "\n",
        "**semanticsubjscore:** Frequency of words with a subjective SENTIWORDNET score\n",
        "\n",
        "**CC:** Frequency of coordinating conjunctions\n",
        "\n",
        "**CD:** Frequency of numerals and cardinals\n",
        "\n",
        "**DT:** Frequency of determiners\n",
        "\n",
        "**EX:** Frequency of existential there\n",
        "\n",
        "**FW:** Frequency of foreign words\n",
        "\n",
        "**INs:** Frequency of subordinating preposition or conjunction\n",
        "\n",
        "**JJ:** Frequency of ordinal adjectives or numerals\n",
        "\n",
        "**JJR:** Frequency of comparative adjectives\n",
        "\n",
        "**JJS:** Frequency of superlative adjectives\n",
        "\n",
        "**LS:** Frequency of list item markers\n",
        "\n",
        "**MD:** Frequency of modal auxiliaries\n",
        "\n",
        "**NN:** Frequency of singular common nouns\n",
        "\n",
        "**NNP:** Frequency of singular proper nouns\n",
        "\n",
        "**NNPS:** Frequency of plural proper nouns\n",
        "\n",
        "**NNS:** Frequency of plural common nouns\n",
        "\n",
        "**PDT:** Frequency of pre-determiners\n",
        "\n",
        "**POS:** Frequency of genitive markers\n",
        "\n",
        "**PRP:** Frequency of personal pronouns\n",
        "\n",
        "**PRP:** Frequency of possessive pronouns\n",
        "\n",
        "**RB:** Frequency of adverbs\n",
        "\n",
        "**RBR:** Frequency of comparative adverbs\n",
        "\n",
        "**RBS:** Frequency of superlative adverbs\n",
        "\n",
        "**RP:** Frequency of particles\n",
        "\n",
        "**SYM:** Frequency of symbols\n",
        "\n",
        "**TOs:** Frequency of 'to' as preposition or infinitive marker\n",
        "\n",
        "**UH:** Frequency of interjections\n",
        "\n",
        "**VB:** Frequency of base form verbs\n",
        "\n",
        "**VBD:** Frequency of past tense verbs\n",
        "\n",
        "**VBG:** Frequency of present participle or gerund verbs\n",
        "\n",
        "**VBN:** Frequency of past participle verbs\n",
        "\n",
        "**VBP:** Frequency of present tense verbs with plural 3rd person subjects\n",
        "\n",
        "**VBZ:** Frequency of present tense verbs with singular 3rd person subjects\n",
        "\n",
        "**WDT:** Frequency of WH-determiners\n",
        "\n",
        "**WP:** Frequency of WH-pronouns\n",
        "\n",
        "**WP$:** Frequency of possessive WH-pronouns\n",
        "\n",
        "**WRB:** Frequency of WH-adverbs\n",
        "\n",
        "**baseform:** Frequency of infinitive verbs (base form verbs preceded by â€œtoâ€)\n",
        "\n",
        "**Quotes:** Frequency of quotation pairs in the entire article\n",
        "\n",
        "**questionmarks:** Frequency of questions marks in the entire article\n",
        "\n",
        "**exclamationmarks:** Frequency of exclamation marks in the entire article\n",
        "\n",
        "**fullstops:** Frequency of full stops\n",
        "\n",
        "**commas:** Frequency of commas\n",
        "\n",
        "**semicolon:** Frequency of semicolons\n",
        "\n",
        "**colon:** Frequency of colons\n",
        "\n",
        "**ellipsis:** Frequency of ellipsis\n",
        "\n",
        "**pronouns1st:** Frequency of first person pronouns (personal and possessive)\n",
        "\n",
        "**pronouns2nd:** Frequency of second person pronouns (personal and possessive)\n",
        "\n",
        "**pronouns3rd:** Frequency of third person pronouns (personal and possessive)\n",
        "\n",
        "**compsupadjadv:** Frequency of comparative and superlative adjectives and adverbs\n",
        "\n",
        "**past:** Frequency of past tense verbs with 1st and 2nd person pronouns\n",
        "\n",
        "**imperative:** Frequency of imperative verbs\n",
        "\n",
        "**present3rd:** Frequency of present tense verbs with 3rd person pronouns\n",
        "\n",
        "**present1st2nd:** Frequency of present tense verbs with 1st and 2nd person pronouns\n",
        "\n",
        "**sentence1st:** First sentence class\n",
        "\n",
        "**sentencelast:** Last sentence class\n",
        "\n",
        "**txtcomplexity:** Text complexity score"
      ]
    },
    {
      "cell_type": "code",
      "metadata": {
        "colab": {
          "resources": {
            "http://localhost:8080/nbextensions/google.colab/files.js": {
              "data": "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",
              "ok": true,
              "headers": [
                [
                  "content-type",
                  "application/javascript"
                ]
              ],
              "status": 200,
              "status_text": "OK"
            }
          },
          "base_uri": "https://localhost:8080/",
          "height": 75
        },
        "id": "rYvitpAPI0pY",
        "outputId": "ad870d73-6ebf-4474-cfae-447514e84aa6"
      },
      "source": [
        "from google.colab import files\n",
        "uploaded = files.upload()"
      ],
      "execution_count": null,
      "outputs": [
        {
          "output_type": "display_data",
          "data": {
            "text/html": [
              "\n",
              "     <input type=\"file\" id=\"files-0ccaaeaa-b0d1-488f-8e55-8eca5e5f3c35\" name=\"files[]\" multiple disabled\n",
              "        style=\"border:none\" />\n",
              "     <output id=\"result-0ccaaeaa-b0d1-488f-8e55-8eca5e5f3c35\">\n",
              "      Upload widget is only available when the cell has been executed in the\n",
              "      current browser session. Please rerun this cell to enable.\n",
              "      </output>\n",
              "      <script src=\"/nbextensions/google.colab/files.js\"></script> "
            ],
            "text/plain": [
              "<IPython.core.display.HTML object>"
            ]
          },
          "metadata": {
            "tags": []
          }
        },
        {
          "output_type": "stream",
          "text": [
            "Saving data.xlsx to data.xlsx\n"
          ],
          "name": "stdout"
        }
      ]
    },
    {
      "cell_type": "code",
      "metadata": {
        "colab": {
          "base_uri": "https://localhost:8080/",
          "height": 295
        },
        "id": "fUG-qVDTJFoT",
        "outputId": "0312a4a2-433a-423e-b7e6-3f7905309a1d"
      },
      "source": [
        "import pandas as pd\n",
        "import numpy as np\n",
        "df = pd.read_excel('data.xlsx',header=None)\n",
        "df.head()"
      ],
      "execution_count": null,
      "outputs": [
        {
          "output_type": "execute_result",
          "data": {
            "text/html": [
              "<div>\n",
              "<style scoped>\n",
              "    .dataframe tbody tr th:only-of-type {\n",
              "        vertical-align: middle;\n",
              "    }\n",
              "\n",
              "    .dataframe tbody tr th {\n",
              "        vertical-align: top;\n",
              "    }\n",
              "\n",
              "    .dataframe thead th {\n",
              "        text-align: right;\n",
              "    }\n",
              "</style>\n",
              "<table border=\"1\" class=\"dataframe\">\n",
              "  <thead>\n",
              "    <tr style=\"text-align: right;\">\n",
              "      <th></th>\n",
              "      <th>0</th>\n",
              "      <th>1</th>\n",
              "      <th>2</th>\n",
              "      <th>3</th>\n",
              "      <th>4</th>\n",
              "      <th>5</th>\n",
              "      <th>6</th>\n",
              "      <th>7</th>\n",
              "      <th>8</th>\n",
              "      <th>9</th>\n",
              "      <th>10</th>\n",
              "      <th>11</th>\n",
              "      <th>12</th>\n",
              "      <th>13</th>\n",
              "      <th>14</th>\n",
              "      <th>15</th>\n",
              "      <th>16</th>\n",
              "      <th>17</th>\n",
              "      <th>18</th>\n",
              "      <th>19</th>\n",
              "      <th>20</th>\n",
              "      <th>21</th>\n",
              "      <th>22</th>\n",
              "      <th>23</th>\n",
              "      <th>24</th>\n",
              "      <th>25</th>\n",
              "      <th>26</th>\n",
              "      <th>27</th>\n",
              "      <th>28</th>\n",
              "      <th>29</th>\n",
              "      <th>30</th>\n",
              "      <th>31</th>\n",
              "      <th>32</th>\n",
              "      <th>33</th>\n",
              "      <th>34</th>\n",
              "      <th>35</th>\n",
              "      <th>36</th>\n",
              "      <th>37</th>\n",
              "      <th>38</th>\n",
              "      <th>39</th>\n",
              "      <th>40</th>\n",
              "      <th>41</th>\n",
              "      <th>42</th>\n",
              "      <th>43</th>\n",
              "      <th>44</th>\n",
              "      <th>45</th>\n",
              "      <th>46</th>\n",
              "      <th>47</th>\n",
              "      <th>48</th>\n",
              "      <th>49</th>\n",
              "      <th>50</th>\n",
              "      <th>51</th>\n",
              "      <th>52</th>\n",
              "      <th>53</th>\n",
              "      <th>54</th>\n",
              "      <th>55</th>\n",
              "      <th>56</th>\n",
              "      <th>57</th>\n",
              "      <th>58</th>\n",
              "      <th>59</th>\n",
              "      <th>60</th>\n",
              "      <th>61</th>\n",
              "    </tr>\n",
              "  </thead>\n",
              "  <tbody>\n",
              "    <tr>\n",
              "      <th>0</th>\n",
              "      <td>TextID</td>\n",
              "      <td>URL</td>\n",
              "      <td>Label</td>\n",
              "      <td>totalWordsCount</td>\n",
              "      <td>semanticobjscore</td>\n",
              "      <td>semanticsubjscore</td>\n",
              "      <td>CC</td>\n",
              "      <td>CD</td>\n",
              "      <td>DT</td>\n",
              "      <td>EX</td>\n",
              "      <td>FW</td>\n",
              "      <td>INs</td>\n",
              "      <td>JJ</td>\n",
              "      <td>JJR</td>\n",
              "      <td>JJS</td>\n",
              "      <td>LS</td>\n",
              "      <td>MD</td>\n",
              "      <td>NN</td>\n",
              "      <td>NNP</td>\n",
              "      <td>NNPS</td>\n",
              "      <td>NNS</td>\n",
              "      <td>PDT</td>\n",
              "      <td>POS</td>\n",
              "      <td>PRP</td>\n",
              "      <td>PRP$</td>\n",
              "      <td>RB</td>\n",
              "      <td>RBR</td>\n",
              "      <td>RBS</td>\n",
              "      <td>RP</td>\n",
              "      <td>SYM</td>\n",
              "      <td>TOs</td>\n",
              "      <td>UH</td>\n",
              "      <td>VB</td>\n",
              "      <td>VBD</td>\n",
              "      <td>VBG</td>\n",
              "      <td>VBN</td>\n",
              "      <td>VBP</td>\n",
              "      <td>VBZ</td>\n",
              "      <td>WDT</td>\n",
              "      <td>WP</td>\n",
              "      <td>WP$</td>\n",
              "      <td>WRB</td>\n",
              "      <td>baseform</td>\n",
              "      <td>Quotes</td>\n",
              "      <td>questionmarks</td>\n",
              "      <td>exclamationmarks</td>\n",
              "      <td>fullstops</td>\n",
              "      <td>commas</td>\n",
              "      <td>semicolon</td>\n",
              "      <td>colon</td>\n",
              "      <td>ellipsis</td>\n",
              "      <td>pronouns1st</td>\n",
              "      <td>pronouns2nd</td>\n",
              "      <td>pronouns3rd</td>\n",
              "      <td>compsupadjadv</td>\n",
              "      <td>past</td>\n",
              "      <td>imperative</td>\n",
              "      <td>present3rd</td>\n",
              "      <td>present1st2nd</td>\n",
              "      <td>sentence1st</td>\n",
              "      <td>sentencelast</td>\n",
              "      <td>txtcomplexity</td>\n",
              "    </tr>\n",
              "    <tr>\n",
              "      <th>1</th>\n",
              "      <td>Text0001</td>\n",
              "      <td>http://msn.foxsports.com/foxsoccer/mexico/stor...</td>\n",
              "      <td>objective</td>\n",
              "      <td>109</td>\n",
              "      <td>0</td>\n",
              "      <td>1</td>\n",
              "      <td>7</td>\n",
              "      <td>9</td>\n",
              "      <td>0</td>\n",
              "      <td>5</td>\n",
              "      <td>8</td>\n",
              "      <td>6</td>\n",
              "      <td>0</td>\n",
              "      <td>0</td>\n",
              "      <td>0</td>\n",
              "      <td>0</td>\n",
              "      <td>29</td>\n",
              "      <td>0</td>\n",
              "      <td>0</td>\n",
              "      <td>12</td>\n",
              "      <td>0</td>\n",
              "      <td>0</td>\n",
              "      <td>1</td>\n",
              "      <td>2</td>\n",
              "      <td>2</td>\n",
              "      <td>0</td>\n",
              "      <td>0</td>\n",
              "      <td>2</td>\n",
              "      <td>0</td>\n",
              "      <td>3</td>\n",
              "      <td>0</td>\n",
              "      <td>0</td>\n",
              "      <td>11</td>\n",
              "      <td>0</td>\n",
              "      <td>2</td>\n",
              "      <td>0</td>\n",
              "      <td>0</td>\n",
              "      <td>0</td>\n",
              "      <td>1</td>\n",
              "      <td>0</td>\n",
              "      <td>1</td>\n",
              "      <td>0</td>\n",
              "      <td>2</td>\n",
              "      <td>0</td>\n",
              "      <td>0</td>\n",
              "      <td>0</td>\n",
              "      <td>4</td>\n",
              "      <td>2</td>\n",
              "      <td>0</td>\n",
              "      <td>0</td>\n",
              "      <td>0</td>\n",
              "      <td>0</td>\n",
              "      <td>0</td>\n",
              "      <td>3</td>\n",
              "      <td>0</td>\n",
              "      <td>11</td>\n",
              "      <td>0</td>\n",
              "      <td>0</td>\n",
              "      <td>0</td>\n",
              "      <td>0</td>\n",
              "      <td>1</td>\n",
              "      <td>18</td>\n",
              "    </tr>\n",
              "    <tr>\n",
              "      <th>2</th>\n",
              "      <td>Text0002</td>\n",
              "      <td>http://msn.foxsports.com/foxsoccer/premierleag...</td>\n",
              "      <td>objective</td>\n",
              "      <td>309</td>\n",
              "      <td>21</td>\n",
              "      <td>4</td>\n",
              "      <td>1</td>\n",
              "      <td>19</td>\n",
              "      <td>1</td>\n",
              "      <td>4</td>\n",
              "      <td>35</td>\n",
              "      <td>23</td>\n",
              "      <td>0</td>\n",
              "      <td>0</td>\n",
              "      <td>0</td>\n",
              "      <td>2</td>\n",
              "      <td>93</td>\n",
              "      <td>1</td>\n",
              "      <td>0</td>\n",
              "      <td>17</td>\n",
              "      <td>0</td>\n",
              "      <td>0</td>\n",
              "      <td>7</td>\n",
              "      <td>5</td>\n",
              "      <td>16</td>\n",
              "      <td>0</td>\n",
              "      <td>0</td>\n",
              "      <td>0</td>\n",
              "      <td>1</td>\n",
              "      <td>3</td>\n",
              "      <td>0</td>\n",
              "      <td>0</td>\n",
              "      <td>13</td>\n",
              "      <td>7</td>\n",
              "      <td>13</td>\n",
              "      <td>9</td>\n",
              "      <td>14</td>\n",
              "      <td>0</td>\n",
              "      <td>0</td>\n",
              "      <td>0</td>\n",
              "      <td>3</td>\n",
              "      <td>0</td>\n",
              "      <td>8</td>\n",
              "      <td>7</td>\n",
              "      <td>0</td>\n",
              "      <td>0</td>\n",
              "      <td>19</td>\n",
              "      <td>3</td>\n",
              "      <td>0</td>\n",
              "      <td>5</td>\n",
              "      <td>0</td>\n",
              "      <td>1</td>\n",
              "      <td>0</td>\n",
              "      <td>10</td>\n",
              "      <td>0</td>\n",
              "      <td>13</td>\n",
              "      <td>0</td>\n",
              "      <td>14</td>\n",
              "      <td>9</td>\n",
              "      <td>1</td>\n",
              "      <td>1</td>\n",
              "      <td>14</td>\n",
              "    </tr>\n",
              "    <tr>\n",
              "      <th>3</th>\n",
              "      <td>Text0003</td>\n",
              "      <td>http://uk.eurosport.yahoo.com/04022011/58/fed-...</td>\n",
              "      <td>objective</td>\n",
              "      <td>149</td>\n",
              "      <td>6</td>\n",
              "      <td>1</td>\n",
              "      <td>8</td>\n",
              "      <td>14</td>\n",
              "      <td>0</td>\n",
              "      <td>5</td>\n",
              "      <td>15</td>\n",
              "      <td>11</td>\n",
              "      <td>0</td>\n",
              "      <td>0</td>\n",
              "      <td>0</td>\n",
              "      <td>0</td>\n",
              "      <td>47</td>\n",
              "      <td>1</td>\n",
              "      <td>0</td>\n",
              "      <td>4</td>\n",
              "      <td>0</td>\n",
              "      <td>0</td>\n",
              "      <td>4</td>\n",
              "      <td>0</td>\n",
              "      <td>7</td>\n",
              "      <td>0</td>\n",
              "      <td>0</td>\n",
              "      <td>1</td>\n",
              "      <td>0</td>\n",
              "      <td>4</td>\n",
              "      <td>0</td>\n",
              "      <td>0</td>\n",
              "      <td>8</td>\n",
              "      <td>2</td>\n",
              "      <td>2</td>\n",
              "      <td>2</td>\n",
              "      <td>3</td>\n",
              "      <td>0</td>\n",
              "      <td>0</td>\n",
              "      <td>0</td>\n",
              "      <td>2</td>\n",
              "      <td>0</td>\n",
              "      <td>4</td>\n",
              "      <td>0</td>\n",
              "      <td>0</td>\n",
              "      <td>0</td>\n",
              "      <td>6</td>\n",
              "      <td>3</td>\n",
              "      <td>0</td>\n",
              "      <td>0</td>\n",
              "      <td>0</td>\n",
              "      <td>0</td>\n",
              "      <td>0</td>\n",
              "      <td>2</td>\n",
              "      <td>0</td>\n",
              "      <td>8</td>\n",
              "      <td>0</td>\n",
              "      <td>3</td>\n",
              "      <td>2</td>\n",
              "      <td>1</td>\n",
              "      <td>1</td>\n",
              "      <td>18</td>\n",
              "    </tr>\n",
              "    <tr>\n",
              "      <th>4</th>\n",
              "      <td>Text0004</td>\n",
              "      <td>http://uk.eurosport.yahoo.com/07022011/58/bund...</td>\n",
              "      <td>objective</td>\n",
              "      <td>305</td>\n",
              "      <td>18</td>\n",
              "      <td>5</td>\n",
              "      <td>7</td>\n",
              "      <td>26</td>\n",
              "      <td>0</td>\n",
              "      <td>10</td>\n",
              "      <td>37</td>\n",
              "      <td>21</td>\n",
              "      <td>1</td>\n",
              "      <td>1</td>\n",
              "      <td>0</td>\n",
              "      <td>0</td>\n",
              "      <td>83</td>\n",
              "      <td>2</td>\n",
              "      <td>0</td>\n",
              "      <td>18</td>\n",
              "      <td>0</td>\n",
              "      <td>0</td>\n",
              "      <td>6</td>\n",
              "      <td>2</td>\n",
              "      <td>9</td>\n",
              "      <td>1</td>\n",
              "      <td>0</td>\n",
              "      <td>1</td>\n",
              "      <td>2</td>\n",
              "      <td>9</td>\n",
              "      <td>0</td>\n",
              "      <td>1</td>\n",
              "      <td>13</td>\n",
              "      <td>12</td>\n",
              "      <td>6</td>\n",
              "      <td>1</td>\n",
              "      <td>7</td>\n",
              "      <td>1</td>\n",
              "      <td>1</td>\n",
              "      <td>0</td>\n",
              "      <td>1</td>\n",
              "      <td>0</td>\n",
              "      <td>5</td>\n",
              "      <td>3</td>\n",
              "      <td>0</td>\n",
              "      <td>0</td>\n",
              "      <td>13</td>\n",
              "      <td>17</td>\n",
              "      <td>0</td>\n",
              "      <td>0</td>\n",
              "      <td>0</td>\n",
              "      <td>0</td>\n",
              "      <td>0</td>\n",
              "      <td>8</td>\n",
              "      <td>3</td>\n",
              "      <td>13</td>\n",
              "      <td>1</td>\n",
              "      <td>7</td>\n",
              "      <td>1</td>\n",
              "      <td>1</td>\n",
              "      <td>1</td>\n",
              "      <td>20</td>\n",
              "    </tr>\n",
              "  </tbody>\n",
              "</table>\n",
              "</div>"
            ],
            "text/plain": [
              "         0   ...             61\n",
              "0    TextID  ...  txtcomplexity\n",
              "1  Text0001  ...             18\n",
              "2  Text0002  ...             14\n",
              "3  Text0003  ...             18\n",
              "4  Text0004  ...             20\n",
              "\n",
              "[5 rows x 62 columns]"
            ]
          },
          "metadata": {
            "tags": []
          },
          "execution_count": 4
        }
      ]
    },
    {
      "cell_type": "code",
      "metadata": {
        "colab": {
          "base_uri": "https://localhost:8080/",
          "height": 226
        },
        "id": "Y9FIPoeklqSf",
        "outputId": "e13ab9d2-3928-44fa-c495-bbde39b11baf"
      },
      "source": [
        "#dropping string values\n",
        "df=df.drop(df.columns[[0, 1]], axis = 1 )\n",
        "df.head()"
      ],
      "execution_count": null,
      "outputs": [
        {
          "output_type": "execute_result",
          "data": {
            "text/html": [
              "<div>\n",
              "<style scoped>\n",
              "    .dataframe tbody tr th:only-of-type {\n",
              "        vertical-align: middle;\n",
              "    }\n",
              "\n",
              "    .dataframe tbody tr th {\n",
              "        vertical-align: top;\n",
              "    }\n",
              "\n",
              "    .dataframe thead th {\n",
              "        text-align: right;\n",
              "    }\n",
              "</style>\n",
              "<table border=\"1\" class=\"dataframe\">\n",
              "  <thead>\n",
              "    <tr style=\"text-align: right;\">\n",
              "      <th></th>\n",
              "      <th>2</th>\n",
              "      <th>3</th>\n",
              "      <th>4</th>\n",
              "      <th>5</th>\n",
              "      <th>6</th>\n",
              "      <th>7</th>\n",
              "      <th>8</th>\n",
              "      <th>9</th>\n",
              "      <th>10</th>\n",
              "      <th>11</th>\n",
              "      <th>12</th>\n",
              "      <th>13</th>\n",
              "      <th>14</th>\n",
              "      <th>15</th>\n",
              "      <th>16</th>\n",
              "      <th>17</th>\n",
              "      <th>18</th>\n",
              "      <th>19</th>\n",
              "      <th>20</th>\n",
              "      <th>21</th>\n",
              "      <th>22</th>\n",
              "      <th>23</th>\n",
              "      <th>24</th>\n",
              "      <th>25</th>\n",
              "      <th>26</th>\n",
              "      <th>27</th>\n",
              "      <th>28</th>\n",
              "      <th>29</th>\n",
              "      <th>30</th>\n",
              "      <th>31</th>\n",
              "      <th>32</th>\n",
              "      <th>33</th>\n",
              "      <th>34</th>\n",
              "      <th>35</th>\n",
              "      <th>36</th>\n",
              "      <th>37</th>\n",
              "      <th>38</th>\n",
              "      <th>39</th>\n",
              "      <th>40</th>\n",
              "      <th>41</th>\n",
              "      <th>42</th>\n",
              "      <th>43</th>\n",
              "      <th>44</th>\n",
              "      <th>45</th>\n",
              "      <th>46</th>\n",
              "      <th>47</th>\n",
              "      <th>48</th>\n",
              "      <th>49</th>\n",
              "      <th>50</th>\n",
              "      <th>51</th>\n",
              "      <th>52</th>\n",
              "      <th>53</th>\n",
              "      <th>54</th>\n",
              "      <th>55</th>\n",
              "      <th>56</th>\n",
              "      <th>57</th>\n",
              "      <th>58</th>\n",
              "      <th>59</th>\n",
              "      <th>60</th>\n",
              "      <th>61</th>\n",
              "    </tr>\n",
              "  </thead>\n",
              "  <tbody>\n",
              "    <tr>\n",
              "      <th>0</th>\n",
              "      <td>Label</td>\n",
              "      <td>totalWordsCount</td>\n",
              "      <td>semanticobjscore</td>\n",
              "      <td>semanticsubjscore</td>\n",
              "      <td>CC</td>\n",
              "      <td>CD</td>\n",
              "      <td>DT</td>\n",
              "      <td>EX</td>\n",
              "      <td>FW</td>\n",
              "      <td>INs</td>\n",
              "      <td>JJ</td>\n",
              "      <td>JJR</td>\n",
              "      <td>JJS</td>\n",
              "      <td>LS</td>\n",
              "      <td>MD</td>\n",
              "      <td>NN</td>\n",
              "      <td>NNP</td>\n",
              "      <td>NNPS</td>\n",
              "      <td>NNS</td>\n",
              "      <td>PDT</td>\n",
              "      <td>POS</td>\n",
              "      <td>PRP</td>\n",
              "      <td>PRP$</td>\n",
              "      <td>RB</td>\n",
              "      <td>RBR</td>\n",
              "      <td>RBS</td>\n",
              "      <td>RP</td>\n",
              "      <td>SYM</td>\n",
              "      <td>TOs</td>\n",
              "      <td>UH</td>\n",
              "      <td>VB</td>\n",
              "      <td>VBD</td>\n",
              "      <td>VBG</td>\n",
              "      <td>VBN</td>\n",
              "      <td>VBP</td>\n",
              "      <td>VBZ</td>\n",
              "      <td>WDT</td>\n",
              "      <td>WP</td>\n",
              "      <td>WP$</td>\n",
              "      <td>WRB</td>\n",
              "      <td>baseform</td>\n",
              "      <td>Quotes</td>\n",
              "      <td>questionmarks</td>\n",
              "      <td>exclamationmarks</td>\n",
              "      <td>fullstops</td>\n",
              "      <td>commas</td>\n",
              "      <td>semicolon</td>\n",
              "      <td>colon</td>\n",
              "      <td>ellipsis</td>\n",
              "      <td>pronouns1st</td>\n",
              "      <td>pronouns2nd</td>\n",
              "      <td>pronouns3rd</td>\n",
              "      <td>compsupadjadv</td>\n",
              "      <td>past</td>\n",
              "      <td>imperative</td>\n",
              "      <td>present3rd</td>\n",
              "      <td>present1st2nd</td>\n",
              "      <td>sentence1st</td>\n",
              "      <td>sentencelast</td>\n",
              "      <td>txtcomplexity</td>\n",
              "    </tr>\n",
              "    <tr>\n",
              "      <th>1</th>\n",
              "      <td>objective</td>\n",
              "      <td>109</td>\n",
              "      <td>0</td>\n",
              "      <td>1</td>\n",
              "      <td>7</td>\n",
              "      <td>9</td>\n",
              "      <td>0</td>\n",
              "      <td>5</td>\n",
              "      <td>8</td>\n",
              "      <td>6</td>\n",
              "      <td>0</td>\n",
              "      <td>0</td>\n",
              "      <td>0</td>\n",
              "      <td>0</td>\n",
              "      <td>29</td>\n",
              "      <td>0</td>\n",
              "      <td>0</td>\n",
              "      <td>12</td>\n",
              "      <td>0</td>\n",
              "      <td>0</td>\n",
              "      <td>1</td>\n",
              "      <td>2</td>\n",
              "      <td>2</td>\n",
              "      <td>0</td>\n",
              "      <td>0</td>\n",
              "      <td>2</td>\n",
              "      <td>0</td>\n",
              "      <td>3</td>\n",
              "      <td>0</td>\n",
              "      <td>0</td>\n",
              "      <td>11</td>\n",
              "      <td>0</td>\n",
              "      <td>2</td>\n",
              "      <td>0</td>\n",
              "      <td>0</td>\n",
              "      <td>0</td>\n",
              "      <td>1</td>\n",
              "      <td>0</td>\n",
              "      <td>1</td>\n",
              "      <td>0</td>\n",
              "      <td>2</td>\n",
              "      <td>0</td>\n",
              "      <td>0</td>\n",
              "      <td>0</td>\n",
              "      <td>4</td>\n",
              "      <td>2</td>\n",
              "      <td>0</td>\n",
              "      <td>0</td>\n",
              "      <td>0</td>\n",
              "      <td>0</td>\n",
              "      <td>0</td>\n",
              "      <td>3</td>\n",
              "      <td>0</td>\n",
              "      <td>11</td>\n",
              "      <td>0</td>\n",
              "      <td>0</td>\n",
              "      <td>0</td>\n",
              "      <td>0</td>\n",
              "      <td>1</td>\n",
              "      <td>18</td>\n",
              "    </tr>\n",
              "    <tr>\n",
              "      <th>2</th>\n",
              "      <td>objective</td>\n",
              "      <td>309</td>\n",
              "      <td>21</td>\n",
              "      <td>4</td>\n",
              "      <td>1</td>\n",
              "      <td>19</td>\n",
              "      <td>1</td>\n",
              "      <td>4</td>\n",
              "      <td>35</td>\n",
              "      <td>23</td>\n",
              "      <td>0</td>\n",
              "      <td>0</td>\n",
              "      <td>0</td>\n",
              "      <td>2</td>\n",
              "      <td>93</td>\n",
              "      <td>1</td>\n",
              "      <td>0</td>\n",
              "      <td>17</td>\n",
              "      <td>0</td>\n",
              "      <td>0</td>\n",
              "      <td>7</td>\n",
              "      <td>5</td>\n",
              "      <td>16</td>\n",
              "      <td>0</td>\n",
              "      <td>0</td>\n",
              "      <td>0</td>\n",
              "      <td>1</td>\n",
              "      <td>3</td>\n",
              "      <td>0</td>\n",
              "      <td>0</td>\n",
              "      <td>13</td>\n",
              "      <td>7</td>\n",
              "      <td>13</td>\n",
              "      <td>9</td>\n",
              "      <td>14</td>\n",
              "      <td>0</td>\n",
              "      <td>0</td>\n",
              "      <td>0</td>\n",
              "      <td>3</td>\n",
              "      <td>0</td>\n",
              "      <td>8</td>\n",
              "      <td>7</td>\n",
              "      <td>0</td>\n",
              "      <td>0</td>\n",
              "      <td>19</td>\n",
              "      <td>3</td>\n",
              "      <td>0</td>\n",
              "      <td>5</td>\n",
              "      <td>0</td>\n",
              "      <td>1</td>\n",
              "      <td>0</td>\n",
              "      <td>10</td>\n",
              "      <td>0</td>\n",
              "      <td>13</td>\n",
              "      <td>0</td>\n",
              "      <td>14</td>\n",
              "      <td>9</td>\n",
              "      <td>1</td>\n",
              "      <td>1</td>\n",
              "      <td>14</td>\n",
              "    </tr>\n",
              "    <tr>\n",
              "      <th>3</th>\n",
              "      <td>objective</td>\n",
              "      <td>149</td>\n",
              "      <td>6</td>\n",
              "      <td>1</td>\n",
              "      <td>8</td>\n",
              "      <td>14</td>\n",
              "      <td>0</td>\n",
              "      <td>5</td>\n",
              "      <td>15</td>\n",
              "      <td>11</td>\n",
              "      <td>0</td>\n",
              "      <td>0</td>\n",
              "      <td>0</td>\n",
              "      <td>0</td>\n",
              "      <td>47</td>\n",
              "      <td>1</td>\n",
              "      <td>0</td>\n",
              "      <td>4</td>\n",
              "      <td>0</td>\n",
              "      <td>0</td>\n",
              "      <td>4</td>\n",
              "      <td>0</td>\n",
              "      <td>7</td>\n",
              "      <td>0</td>\n",
              "      <td>0</td>\n",
              "      <td>1</td>\n",
              "      <td>0</td>\n",
              "      <td>4</td>\n",
              "      <td>0</td>\n",
              "      <td>0</td>\n",
              "      <td>8</td>\n",
              "      <td>2</td>\n",
              "      <td>2</td>\n",
              "      <td>2</td>\n",
              "      <td>3</td>\n",
              "      <td>0</td>\n",
              "      <td>0</td>\n",
              "      <td>0</td>\n",
              "      <td>2</td>\n",
              "      <td>0</td>\n",
              "      <td>4</td>\n",
              "      <td>0</td>\n",
              "      <td>0</td>\n",
              "      <td>0</td>\n",
              "      <td>6</td>\n",
              "      <td>3</td>\n",
              "      <td>0</td>\n",
              "      <td>0</td>\n",
              "      <td>0</td>\n",
              "      <td>0</td>\n",
              "      <td>0</td>\n",
              "      <td>2</td>\n",
              "      <td>0</td>\n",
              "      <td>8</td>\n",
              "      <td>0</td>\n",
              "      <td>3</td>\n",
              "      <td>2</td>\n",
              "      <td>1</td>\n",
              "      <td>1</td>\n",
              "      <td>18</td>\n",
              "    </tr>\n",
              "    <tr>\n",
              "      <th>4</th>\n",
              "      <td>objective</td>\n",
              "      <td>305</td>\n",
              "      <td>18</td>\n",
              "      <td>5</td>\n",
              "      <td>7</td>\n",
              "      <td>26</td>\n",
              "      <td>0</td>\n",
              "      <td>10</td>\n",
              "      <td>37</td>\n",
              "      <td>21</td>\n",
              "      <td>1</td>\n",
              "      <td>1</td>\n",
              "      <td>0</td>\n",
              "      <td>0</td>\n",
              "      <td>83</td>\n",
              "      <td>2</td>\n",
              "      <td>0</td>\n",
              "      <td>18</td>\n",
              "      <td>0</td>\n",
              "      <td>0</td>\n",
              "      <td>6</td>\n",
              "      <td>2</td>\n",
              "      <td>9</td>\n",
              "      <td>1</td>\n",
              "      <td>0</td>\n",
              "      <td>1</td>\n",
              "      <td>2</td>\n",
              "      <td>9</td>\n",
              "      <td>0</td>\n",
              "      <td>1</td>\n",
              "      <td>13</td>\n",
              "      <td>12</td>\n",
              "      <td>6</td>\n",
              "      <td>1</td>\n",
              "      <td>7</td>\n",
              "      <td>1</td>\n",
              "      <td>1</td>\n",
              "      <td>0</td>\n",
              "      <td>1</td>\n",
              "      <td>0</td>\n",
              "      <td>5</td>\n",
              "      <td>3</td>\n",
              "      <td>0</td>\n",
              "      <td>0</td>\n",
              "      <td>13</td>\n",
              "      <td>17</td>\n",
              "      <td>0</td>\n",
              "      <td>0</td>\n",
              "      <td>0</td>\n",
              "      <td>0</td>\n",
              "      <td>0</td>\n",
              "      <td>8</td>\n",
              "      <td>3</td>\n",
              "      <td>13</td>\n",
              "      <td>1</td>\n",
              "      <td>7</td>\n",
              "      <td>1</td>\n",
              "      <td>1</td>\n",
              "      <td>1</td>\n",
              "      <td>20</td>\n",
              "    </tr>\n",
              "  </tbody>\n",
              "</table>\n",
              "</div>"
            ],
            "text/plain": [
              "          2                3   ...            60             61\n",
              "0      Label  totalWordsCount  ...  sentencelast  txtcomplexity\n",
              "1  objective              109  ...             1             18\n",
              "2  objective              309  ...             1             14\n",
              "3  objective              149  ...             1             18\n",
              "4  objective              305  ...             1             20\n",
              "\n",
              "[5 rows x 60 columns]"
            ]
          },
          "metadata": {
            "tags": []
          },
          "execution_count": 5
        }
      ]
    },
    {
      "cell_type": "code",
      "metadata": {
        "colab": {
          "resources": {
            "http://localhost:8080/nbextensions/google.colab/files.js": {
              "data": "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",
              "ok": true,
              "headers": [
                [
                  "content-type",
                  "application/javascript"
                ]
              ],
              "status": 200,
              "status_text": "OK"
            }
          },
          "base_uri": "https://localhost:8080/",
          "height": 75
        },
        "id": "0fJ4bXSUhlTS",
        "outputId": "65f7b1d9-dce3-42c4-e098-b94b4fc6ffdb"
      },
      "source": [
        "from google.colab import files\n",
        "uploaded = files.upload()"
      ],
      "execution_count": null,
      "outputs": [
        {
          "output_type": "display_data",
          "data": {
            "text/html": [
              "\n",
              "     <input type=\"file\" id=\"files-af9198f9-813e-4e58-85a1-ec1d8f5e8bba\" name=\"files[]\" multiple disabled\n",
              "        style=\"border:none\" />\n",
              "     <output id=\"result-af9198f9-813e-4e58-85a1-ec1d8f5e8bba\">\n",
              "      Upload widget is only available when the cell has been executed in the\n",
              "      current browser session. Please rerun this cell to enable.\n",
              "      </output>\n",
              "      <script src=\"/nbextensions/google.colab/files.js\"></script> "
            ],
            "text/plain": [
              "<IPython.core.display.HTML object>"
            ]
          },
          "metadata": {
            "tags": []
          }
        },
        {
          "output_type": "stream",
          "text": [
            "Saving new.XLSX to new.XLSX\n"
          ],
          "name": "stdout"
        }
      ]
    },
    {
      "cell_type": "code",
      "metadata": {
        "colab": {
          "base_uri": "https://localhost:8080/"
        },
        "id": "U60d08_8mjsf",
        "outputId": "8e1a0c3d-f0ac-4bff-ed99-2e68a857174a"
      },
      "source": [
        "df1 = pd.read_excel('new.XLSX')\n",
        "df1 = df1[0:]\n",
        "print(df1.head())"
      ],
      "execution_count": null,
      "outputs": [
        {
          "output_type": "stream",
          "text": [
            "       Label  totalWordsCount  ...  FW  txtcomplexity\n",
            "0  objective              109  ...   8             18\n",
            "1  objective              309  ...  35             14\n",
            "2  objective              149  ...  15             18\n",
            "3  objective              305  ...  37             20\n",
            "4  objective              491  ...  61             24\n",
            "\n",
            "[5 rows x 6 columns]\n"
          ],
          "name": "stdout"
        }
      ]
    },
    {
      "cell_type": "code",
      "metadata": {
        "colab": {
          "base_uri": "https://localhost:8080/"
        },
        "id": "MpmE8-P9Pg2e",
        "outputId": "f4f868c4-9475-4c0f-80d0-8f4eeb948a72"
      },
      "source": [
        "# check datatypes, shape,null values\n",
        "print(df1.info())\n",
        "print()\n",
        "print(df1.isna().sum())"
      ],
      "execution_count": null,
      "outputs": [
        {
          "output_type": "stream",
          "text": [
            "<class 'pandas.core.frame.DataFrame'>\n",
            "RangeIndex: 1000 entries, 0 to 999\n",
            "Data columns (total 6 columns):\n",
            " #   Column             Non-Null Count  Dtype \n",
            "---  ------             --------------  ----- \n",
            " 0   Label              1000 non-null   object\n",
            " 1   totalWordsCount    1000 non-null   int64 \n",
            " 2   semanticobjscore   1000 non-null   int64 \n",
            " 3   semanticsubjscore  1000 non-null   int64 \n",
            " 4   FW                 1000 non-null   int64 \n",
            " 5   txtcomplexity      1000 non-null   int64 \n",
            "dtypes: int64(5), object(1)\n",
            "memory usage: 47.0+ KB\n",
            "None\n",
            "\n",
            "Label                0\n",
            "totalWordsCount      0\n",
            "semanticobjscore     0\n",
            "semanticsubjscore    0\n",
            "FW                   0\n",
            "txtcomplexity        0\n",
            "dtype: int64\n"
          ],
          "name": "stdout"
        }
      ]
    },
    {
      "cell_type": "markdown",
      "metadata": {
        "id": "cPNo_ErcuNuk"
      },
      "source": [
        "Dataset has 1000 rows and 6 columns(now, after creating new dataset).\n",
        "There are no missing values present in dataset.\n"
      ]
    },
    {
      "cell_type": "markdown",
      "metadata": {
        "id": "1NEkv5ePQHNQ"
      },
      "source": [
        "**DESCRIPTIVE STATISTICS**"
      ]
    },
    {
      "cell_type": "code",
      "metadata": {
        "colab": {
          "base_uri": "https://localhost:8080/",
          "height": 300
        },
        "id": "V_MLd-5jQZKw",
        "outputId": "664dcfe9-571b-47d0-9a32-80a25ad213d5"
      },
      "source": [
        "#Statistical Summary of Numeric Variables\n",
        "df1.describe()"
      ],
      "execution_count": null,
      "outputs": [
        {
          "output_type": "execute_result",
          "data": {
            "text/html": [
              "<div>\n",
              "<style scoped>\n",
              "    .dataframe tbody tr th:only-of-type {\n",
              "        vertical-align: middle;\n",
              "    }\n",
              "\n",
              "    .dataframe tbody tr th {\n",
              "        vertical-align: top;\n",
              "    }\n",
              "\n",
              "    .dataframe thead th {\n",
              "        text-align: right;\n",
              "    }\n",
              "</style>\n",
              "<table border=\"1\" class=\"dataframe\">\n",
              "  <thead>\n",
              "    <tr style=\"text-align: right;\">\n",
              "      <th></th>\n",
              "      <th>totalWordsCount</th>\n",
              "      <th>semanticobjscore</th>\n",
              "      <th>semanticsubjscore</th>\n",
              "      <th>FW</th>\n",
              "      <th>txtcomplexity</th>\n",
              "    </tr>\n",
              "  </thead>\n",
              "  <tbody>\n",
              "    <tr>\n",
              "      <th>count</th>\n",
              "      <td>1000.000000</td>\n",
              "      <td>1000.000000</td>\n",
              "      <td>1000.000000</td>\n",
              "      <td>1000.000000</td>\n",
              "      <td>1000.000000</td>\n",
              "    </tr>\n",
              "    <tr>\n",
              "      <th>mean</th>\n",
              "      <td>697.120000</td>\n",
              "      <td>39.005000</td>\n",
              "      <td>13.934000</td>\n",
              "      <td>75.151000</td>\n",
              "      <td>19.142000</td>\n",
              "    </tr>\n",
              "    <tr>\n",
              "      <th>std</th>\n",
              "      <td>523.340997</td>\n",
              "      <td>32.134835</td>\n",
              "      <td>13.617528</td>\n",
              "      <td>55.927293</td>\n",
              "      <td>6.632483</td>\n",
              "    </tr>\n",
              "    <tr>\n",
              "      <th>min</th>\n",
              "      <td>47.000000</td>\n",
              "      <td>0.000000</td>\n",
              "      <td>0.000000</td>\n",
              "      <td>2.000000</td>\n",
              "      <td>5.000000</td>\n",
              "    </tr>\n",
              "    <tr>\n",
              "      <th>25%</th>\n",
              "      <td>272.000000</td>\n",
              "      <td>13.000000</td>\n",
              "      <td>4.000000</td>\n",
              "      <td>31.750000</td>\n",
              "      <td>15.000000</td>\n",
              "    </tr>\n",
              "    <tr>\n",
              "      <th>50%</th>\n",
              "      <td>626.000000</td>\n",
              "      <td>33.000000</td>\n",
              "      <td>10.000000</td>\n",
              "      <td>67.000000</td>\n",
              "      <td>18.000000</td>\n",
              "    </tr>\n",
              "    <tr>\n",
              "      <th>75%</th>\n",
              "      <td>953.250000</td>\n",
              "      <td>56.000000</td>\n",
              "      <td>20.250000</td>\n",
              "      <td>103.000000</td>\n",
              "      <td>22.000000</td>\n",
              "    </tr>\n",
              "    <tr>\n",
              "      <th>max</th>\n",
              "      <td>4283.000000</td>\n",
              "      <td>237.000000</td>\n",
              "      <td>97.000000</td>\n",
              "      <td>473.000000</td>\n",
              "      <td>73.000000</td>\n",
              "    </tr>\n",
              "  </tbody>\n",
              "</table>\n",
              "</div>"
            ],
            "text/plain": [
              "       totalWordsCount  semanticobjscore  ...           FW  txtcomplexity\n",
              "count      1000.000000       1000.000000  ...  1000.000000    1000.000000\n",
              "mean        697.120000         39.005000  ...    75.151000      19.142000\n",
              "std         523.340997         32.134835  ...    55.927293       6.632483\n",
              "min          47.000000          0.000000  ...     2.000000       5.000000\n",
              "25%         272.000000         13.000000  ...    31.750000      15.000000\n",
              "50%         626.000000         33.000000  ...    67.000000      18.000000\n",
              "75%         953.250000         56.000000  ...   103.000000      22.000000\n",
              "max        4283.000000        237.000000  ...   473.000000      73.000000\n",
              "\n",
              "[8 rows x 5 columns]"
            ]
          },
          "metadata": {
            "tags": []
          },
          "execution_count": 11
        }
      ]
    },
    {
      "cell_type": "code",
      "metadata": {
        "colab": {
          "base_uri": "https://localhost:8080/"
        },
        "id": "jZzCVT-BR9iB",
        "outputId": "334c6635-bdd3-43fb-e9ca-847eae8fb639"
      },
      "source": [
        "cols = df1.columns.tolist()\n",
        "print(cols)\n",
        "print(cols[0])\n",
        "cols = cols[1:] + cols[:1]\n",
        "print(cols)\n",
        "df1 = df1[cols]\n",
        "print(df1['Label'].unique())\n",
        "print(df1.head())"
      ],
      "execution_count": null,
      "outputs": [
        {
          "output_type": "stream",
          "text": [
            "['Label', 'totalWordsCount', 'semanticobjscore', 'semanticsubjscore', 'FW', 'txtcomplexity']\n",
            "Label\n",
            "['totalWordsCount', 'semanticobjscore', 'semanticsubjscore', 'FW', 'txtcomplexity', 'Label']\n",
            "['objective' 'subjective']\n",
            "   totalWordsCount  semanticobjscore  ...  txtcomplexity      Label\n",
            "0              109                 0  ...             18  objective\n",
            "1              309                21  ...             14  objective\n",
            "2              149                 6  ...             18  objective\n",
            "3              305                18  ...             20  objective\n",
            "4              491                23  ...             24  objective\n",
            "\n",
            "[5 rows x 6 columns]\n"
          ],
          "name": "stdout"
        }
      ]
    },
    {
      "cell_type": "code",
      "metadata": {
        "colab": {
          "base_uri": "https://localhost:8080/"
        },
        "id": "-1LammvnrVNs",
        "outputId": "0262ad5c-54a5-4094-c5ed-ddd601c50e4a"
      },
      "source": [
        "#df1[0] = {'objective': 1,'subjective': 2}\n",
        "df1.Label[df1.Label == 'objective'] = 1\n",
        "df1.Label[df1.Label == 'subjective'] = 2\n",
        "print(df1)\n",
        "\n",
        "print(df1['Label'].unique())"
      ],
      "execution_count": null,
      "outputs": [
        {
          "output_type": "stream",
          "text": [
            "     totalWordsCount  semanticobjscore  ...  txtcomplexity  Label\n",
            "0                109                 0  ...             18      1\n",
            "1                309                21  ...             14      1\n",
            "2                149                 6  ...             18      1\n",
            "3                305                18  ...             20      1\n",
            "4                491                23  ...             24      1\n",
            "..               ...               ...  ...            ...    ...\n",
            "995              926                46  ...             24      2\n",
            "996              876                48  ...             21      2\n",
            "997             1469                82  ...             18      2\n",
            "998              343                 7  ...             11      2\n",
            "999              823                43  ...             23      2\n",
            "\n",
            "[1000 rows x 6 columns]\n",
            "[1 2]\n"
          ],
          "name": "stdout"
        },
        {
          "output_type": "stream",
          "text": [
            "/usr/local/lib/python3.7/dist-packages/ipykernel_launcher.py:3: SettingWithCopyWarning: \n",
            "A value is trying to be set on a copy of a slice from a DataFrame\n",
            "\n",
            "See the caveats in the documentation: https://pandas.pydata.org/pandas-docs/stable/user_guide/indexing.html#returning-a-view-versus-a-copy\n",
            "  This is separate from the ipykernel package so we can avoid doing imports until\n"
          ],
          "name": "stderr"
        }
      ]
    },
    {
      "cell_type": "code",
      "metadata": {
        "colab": {
          "base_uri": "https://localhost:8080/"
        },
        "id": "ODjgB1nr1G-h",
        "outputId": "34f32c1e-cd1a-4004-a640-7bab818fc711"
      },
      "source": [
        "#changing the column names to numbers\n",
        "df1.columns = np.arange(len(df1.columns))\n",
        "print(df1)"
      ],
      "execution_count": null,
      "outputs": [
        {
          "output_type": "stream",
          "text": [
            "        0   1   2    3   4  5\n",
            "0     109   0   1    8  18  1\n",
            "1     309  21   4   35  14  1\n",
            "2     149   6   1   15  18  1\n",
            "3     305  18   5   37  20  1\n",
            "4     491  23   8   61  24  1\n",
            "..    ...  ..  ..  ...  .. ..\n",
            "995   926  46  34   96  24  2\n",
            "996   876  48  26   89  21  2\n",
            "997  1469  82  53  157  18  2\n",
            "998   343   7   5   28  11  2\n",
            "999   823  43  22   91  23  2\n",
            "\n",
            "[1000 rows x 6 columns]\n"
          ],
          "name": "stdout"
        }
      ]
    },
    {
      "cell_type": "code",
      "metadata": {
        "colab": {
          "resources": {
            "http://localhost:8080/nbextensions/google.colab/files.js": {
              "data": "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",
              "ok": true,
              "headers": [
                [
                  "content-type",
                  "application/javascript"
                ]
              ],
              "status": 200,
              "status_text": "OK"
            }
          },
          "base_uri": "https://localhost:8080/",
          "height": 75
        },
        "id": "nOZXiaD1FY9P",
        "outputId": "6968df97-1bfa-49e5-d97a-3d1b31a8c3bd"
      },
      "source": [
        "from google.colab import files\n",
        "uploaded = files.upload()"
      ],
      "execution_count": null,
      "outputs": [
        {
          "output_type": "display_data",
          "data": {
            "text/html": [
              "\n",
              "     <input type=\"file\" id=\"files-c96113c7-0b7d-4c28-b079-6987a5c78e7f\" name=\"files[]\" multiple disabled\n",
              "        style=\"border:none\" />\n",
              "     <output id=\"result-c96113c7-0b7d-4c28-b079-6987a5c78e7f\">\n",
              "      Upload widget is only available when the cell has been executed in the\n",
              "      current browser session. Please rerun this cell to enable.\n",
              "      </output>\n",
              "      <script src=\"/nbextensions/google.colab/files.js\"></script> "
            ],
            "text/plain": [
              "<IPython.core.display.HTML object>"
            ]
          },
          "metadata": {
            "tags": []
          }
        },
        {
          "output_type": "stream",
          "text": [
            "Saving latest.XLSX to latest.XLSX\n"
          ],
          "name": "stdout"
        }
      ]
    },
    {
      "cell_type": "code",
      "metadata": {
        "id": "-Usr_E77FL8D"
      },
      "source": [
        "df2 = pd.read_excel('latest.XLSX',header=None)"
      ],
      "execution_count": null,
      "outputs": []
    },
    {
      "cell_type": "markdown",
      "metadata": {
        "id": "hQLE6oy89n-i"
      },
      "source": [
        "**BPN Algorithm**"
      ]
    },
    {
      "cell_type": "code",
      "metadata": {
        "id": "ZUWjCenh1E0T"
      },
      "source": [
        "from random import seed\n",
        "from random import random\n",
        "\n",
        "# Initialize a network\n",
        "def initialize_network(n_inputs, n_hidden, n_outputs):\n",
        "\tnetwork = list()\n",
        "\thidden_layer = [{'weights':[random() for i in range(n_inputs + 1)]} for i in range(n_hidden)]\n",
        "\tnetwork.append(hidden_layer)\n",
        "\toutput_layer = [{'weights':[random() for i in range(n_hidden + 1)]} for i in range(n_outputs)]\n",
        "\tnetwork.append(output_layer)\n",
        "\treturn network"
      ],
      "execution_count": null,
      "outputs": []
    },
    {
      "cell_type": "code",
      "metadata": {
        "id": "DBxrg4QT1TRO"
      },
      "source": [
        "# Calculate neuron activation for an input\n",
        "def activate(weights, inputs):\n",
        "\tactivation = weights[-1]\n",
        "\tfor i in range(len(weights)-1):\n",
        "\t\tactivation += (float(weights[i]) * float(inputs[i]))\n",
        "\treturn activation"
      ],
      "execution_count": null,
      "outputs": []
    },
    {
      "cell_type": "code",
      "metadata": {
        "id": "foSvj-wK1Yb6"
      },
      "source": [
        "from math import exp\n",
        "# Transfer neuron activation\n",
        "\n",
        "def transfer(activation):\n",
        "\treturn 1.0 / (1.0 + exp(-activation))"
      ],
      "execution_count": null,
      "outputs": []
    },
    {
      "cell_type": "code",
      "metadata": {
        "id": "ZXM14cNh1vCC"
      },
      "source": [
        "# Forward propagate input to a network output\n",
        "def forward_propagate(network, row):\n",
        "\tinputs = row\n",
        "\tfor layer in network:\n",
        "\t\tnew_inputs = []\n",
        "\t\tfor neuron in layer:\n",
        "\t\t\tactivation = activate(neuron['weights'], inputs)\n",
        "\t\t\tneuron['output'] = transfer(activation)\n",
        "\t\t\tnew_inputs.append(neuron['output'])\n",
        "\t\tinputs = new_inputs\n",
        "\treturn inputs"
      ],
      "execution_count": null,
      "outputs": []
    },
    {
      "cell_type": "code",
      "metadata": {
        "id": "q6YIDZpE13uW"
      },
      "source": [
        "# Calculate the derivative of an neuron output\n",
        "def transfer_derivative(output):\n",
        "\treturn output * (1.0 - output)"
      ],
      "execution_count": null,
      "outputs": []
    },
    {
      "cell_type": "code",
      "metadata": {
        "id": "qgF2Anfd15oU"
      },
      "source": [
        "#Backpropagate error and store in neurons\n",
        "def backward_propagate_error(network, expected):\n",
        "\tfor i in reversed(range(len(network))):\n",
        "\t\tlayer = network[i]\n",
        "\t\terrors = list()\n",
        "\t\tif i != len(network)-1:\n",
        "\t\t\tfor j in range(len(layer)):\n",
        "\t\t\t\terror = 0.0\n",
        "\t\t\t\tfor neuron in network[i + 1]:\n",
        "\t\t\t\t\terror += (neuron['weights'][j] * neuron['delta'])\n",
        "\t\t\t\terrors.append(error)\n",
        "\t\telse:\n",
        "\t\t\tfor j in range(len(layer)):\n",
        "\t\t\t\tneuron = layer[j]\n",
        "\t\t\t\terrors.append(expected[j] - neuron['output'])\n",
        "\t\tfor j in range(len(layer)):\n",
        "\t\t\tneuron = layer[j]\n",
        "\t\t\tneuron['delta'] = errors[j] * transfer_derivative(neuron['output'])"
      ],
      "execution_count": null,
      "outputs": []
    },
    {
      "cell_type": "code",
      "metadata": {
        "id": "0zJPYYsZ2Dvi"
      },
      "source": [
        "# Update network weights with error\n",
        "def update_weights(network, row, l_rate):\n",
        "\tfor i in range(len(network)):\n",
        "\t\tinputs = row[:-1]\n",
        "\t\tif i != 0:\n",
        "\t\t\tinputs = [neuron['output'] for neuron in network[i - 1]]\n",
        "\t\tfor neuron in network[i]:\n",
        "\t\t\tfor j in range(len(inputs)):\n",
        "\t\t\t\tneuron['weights'][j] += float(l_rate) * float(neuron['delta']) * float(inputs[j])\n",
        "\t\t\tneuron['weights'][-1] += l_rate * neuron['delta']"
      ],
      "execution_count": null,
      "outputs": []
    },
    {
      "cell_type": "code",
      "metadata": {
        "id": "fM3L-Vc92F7l"
      },
      "source": [
        "def train_network(network, train, l_rate, n_epoch, n_outputs):\n",
        "  for epoch in range(n_epoch):\n",
        "    sum_error = 0\n",
        "    print(n_outputs)\n",
        "    for row in train:\n",
        "      outputs = forward_propagate(network, row)\n",
        "      expected = [0 for i in range(n_outputs)]\n",
        "      for j in range(int(row[-1])):\n",
        "        expected[int(i)] = 1\n",
        "      sum_error += sum([(expected[i]-outputs[i])**2 for i in range(len(expected))])\n",
        "      backward_propagate_error(network, expected)\n",
        "      update_weights(network, row, l_rate)\n",
        "    print('>epoch=%d, lrate=%.3f, error=%.3f' % (epoch, l_rate, sum_error))"
      ],
      "execution_count": null,
      "outputs": []
    },
    {
      "cell_type": "code",
      "metadata": {
        "colab": {
          "base_uri": "https://localhost:8080/",
          "height": 445
        },
        "id": "3lGVgPFJ2cLK",
        "outputId": "3957dc75-3f5c-4b28-ccc5-e84934b6aa40"
      },
      "source": [
        "# Train a network for a fixed number of epochs\n",
        "seed(1)\n",
        "data_list = df1.values.tolist()\n",
        "print(set([row[-1] for row in data_list ]))\n",
        "print(data_list)\n",
        "n_inputs = len(data_list[0]) - 1\n",
        "n_outputs = len(set([row[-1] for row in data_list ]))\n",
        "network = initialize_network(n_inputs, 2, n_outputs)\n",
        "train_network(network, data_list, 0.5, 20, n_outputs)\n",
        "for layer in network:\n",
        "\tprint(layer)"
      ],
      "execution_count": null,
      "outputs": [
        {
          "output_type": "stream",
          "text": [
            "{1, 2}\n",
            "[[109, 0, 1, 8, 18, 1], [309, 21, 4, 35, 14, 1], [149, 6, 1, 15, 18, 1], [305, 18, 5, 37, 20, 1], [491, 23, 8, 61, 24, 1], [314, 14, 1, 36, 18, 1], [314, 10, 6, 33, 31, 1], [462, 19, 6, 40, 17, 1], [808, 40, 11, 94, 17, 1], [860, 44, 22, 101, 24, 1], [497, 25, 9, 64, 17, 1], [106, 4, 0, 7, 10, 1], [792, 57, 22, 121, 23, 1], [246, 11, 2, 30, 10, 1], [614, 30, 10, 90, 20, 1], [143, 16, 1, 13, 14, 1], [246, 12, 2, 21, 27, 1], [293, 7, 6, 27, 26, 1], [1367, 67, 28, 140, 34, 1], [845, 46, 24, 77, 17, 1], [112, 6, 1, 17, 12, 1], [204, 12, 1, 18, 25, 1], [177, 6, 1, 18, 16, 1], [253, 18, 6, 31, 16, 1], [1122, 63, 29, 127, 22, 1], [653, 30, 9, 64, 16, 1], [985, 62, 17, 116, 18, 1], [513, 31, 13, 52, 19, 1], [853, 61, 19, 96, 22, 1], [552, 31, 4, 68, 24, 1], [404, 27, 5, 49, 21, 1], [65, 3, 0, 8, 13, 1], [395, 30, 6, 53, 19, 1], [116, 3, 0, 7, 9, 1], [573, 37, 4, 77, 19, 1], [272, 11, 2, 19, 20, 1], [227, 20, 2, 25, 17, 1], [575, 29, 7, 57, 22, 1], [382, 16, 4, 47, 23, 1], [294, 17, 3, 23, 10, 1], [894, 50, 13, 114, 29, 1], [176, 6, 7, 25, 12, 1], [182, 10, 6, 17, 18, 1], [93, 4, 2, 10, 11, 1], [269, 18, 3, 29, 14, 1], [71, 6, 3, 7, 11, 1], [585, 23, 4, 79, 20, 1], [186, 4, 4, 24, 15, 1], [234, 11, 4, 25, 11, 1], [683, 36, 13, 76, 28, 1], [106, 6, 3, 14, 21, 1], [661, 30, 12, 75, 14, 1], [136, 18, 1, 12, 9, 1], [246, 12, 1, 10, 5, 1], [411, 21, 5, 40, 14, 1], [917, 54, 11, 102, 13, 1], [307, 11, 3, 39, 17, 1], [1065, 71, 21, 113, 19, 1], [1386, 70, 12, 154, 19, 1], [730, 39, 18, 79, 27, 1], [268, 15, 5, 29, 29, 1], [488, 31, 7, 52, 12, 1], [1766, 107, 54, 166, 12, 1], [206, 8, 8, 25, 29, 1], [198, 9, 4, 30, 19, 1], [83, 5, 0, 9, 13, 1], [400, 29, 13, 39, 12, 1], [151, 5, 4, 18, 11, 1], [99, 4, 1, 11, 11, 1], [138, 4, 1, 14, 15, 1], [262, 11, 6, 24, 52, 1], [530, 12, 5, 62, 19, 1], [143, 10, 2, 16, 20, 1], [245, 11, 3, 24, 13, 1], [1197, 56, 22, 120, 15, 1], [147, 2, 0, 11, 18, 1], [47, 2, 0, 2, 9, 1], [142, 3, 1, 21, 15, 1], [487, 19, 5, 58, 15, 1], [179, 7, 0, 18, 17, 1], [224, 12, 4, 20, 37, 1], [306, 23, 5, 43, 19, 1], [684, 42, 9, 83, 18, 1], [107, 10, 2, 12, 8, 1], [310, 19, 4, 38, 17, 1], [365, 14, 7, 58, 15, 1], [173, 8, 2, 27, 15, 1], [450, 30, 9, 50, 16, 1], [118, 5, 0, 10, 11, 1], [343, 16, 9, 34, 13, 1], [152, 14, 0, 16, 21, 1], [744, 34, 14, 67, 31, 1], [188, 14, 3, 19, 17, 1], [242, 14, 2, 32, 15, 1], [941, 57, 15, 104, 18, 1], [624, 38, 18, 75, 20, 1], [474, 34, 10, 44, 33, 1], [201, 13, 5, 25, 15, 1], [211, 9, 7, 33, 23, 1], [360, 22, 2, 45, 25, 1], [749, 50, 19, 81, 14, 1], [88, 5, 0, 13, 17, 1], [648, 39, 8, 64, 14, 1], [140, 5, 1, 17, 11, 1], [284, 12, 5, 39, 18, 1], [514, 32, 8, 58, 19, 1], [732, 32, 13, 66, 15, 1], [225, 11, 4, 29, 17, 1], [953, 33, 12, 103, 20, 1], [326, 16, 2, 49, 25, 1], [404, 19, 1, 37, 26, 1], [245, 7, 6, 36, 17, 1], [124, 5, 2, 12, 10, 1], [212, 4, 1, 28, 12, 1], [137, 3, 0, 16, 19, 1], [592, 36, 9, 66, 24, 1], [627, 40, 13, 68, 16, 1], [132, 5, 2, 10, 8, 1], [133, 9, 1, 21, 11, 1], [150, 2, 0, 12, 16, 1], [718, 30, 5, 63, 28, 1], [313, 12, 6, 35, 26, 1], [388, 24, 3, 39, 12, 1], [128, 11, 1, 14, 21, 1], [782, 54, 10, 73, 15, 1], [140, 5, 1, 13, 17, 1], [1047, 68, 9, 124, 18, 1], [281, 23, 5, 23, 10, 1], [1320, 62, 32, 174, 20, 1], [328, 13, 8, 32, 13, 1], [694, 44, 19, 79, 24, 1], [853, 51, 16, 97, 21, 1], [820, 46, 26, 94, 21, 1], [647, 44, 9, 74, 16, 1], [800, 47, 11, 86, 16, 1], [212, 10, 1, 24, 15, 1], [702, 38, 13, 72, 19, 1], [1412, 88, 23, 149, 20, 1], [94, 0, 1, 17, 10, 1], [114, 10, 1, 11, 8, 1], [275, 14, 7, 34, 16, 1], [136, 5, 1, 12, 19, 1], [752, 71, 10, 80, 13, 1], [852, 43, 13, 84, 17, 1], [290, 14, 7, 25, 17, 1], [322, 9, 6, 48, 20, 1], [145, 6, 0, 17, 18, 1], [115, 4, 0, 15, 16, 1], [317, 14, 5, 41, 10, 1], [312, 13, 2, 30, 15, 1], [160, 9, 1, 16, 26, 1], [84, 5, 0, 10, 14, 1], [303, 15, 5, 33, 14, 1], [149, 6, 0, 11, 14, 1], [1933, 75, 53, 183, 42, 1], [692, 36, 24, 66, 16, 1], [582, 30, 18, 51, 21, 1], [101, 3, 3, 8, 12, 1], [96, 2, 0, 11, 16, 1], [94, 3, 2, 6, 11, 1], [147, 12, 5, 9, 16, 1], [146, 7, 3, 15, 14, 1], [206, 9, 1, 27, 13, 1], [743, 28, 14, 81, 16, 1], [944, 48, 10, 112, 20, 1], [215, 11, 4, 29, 14, 1], [142, 9, 2, 21, 17, 1], [351, 9, 9, 32, 18, 1], [126, 3, 3, 13, 7, 1], [142, 9, 1, 14, 14, 1], [156, 6, 2, 18, 19, 1], [586, 24, 8, 62, 13, 1], [456, 22, 6, 47, 25, 1], [249, 12, 1, 26, 20, 1], [932, 54, 11, 107, 18, 1], [430, 19, 7, 48, 13, 1], [285, 14, 4, 34, 21, 1], [390, 10, 12, 47, 24, 1], [688, 20, 7, 77, 19, 1], [1237, 80, 20, 146, 21, 1], [611, 45, 6, 78, 14, 1], [594, 29, 8, 82, 20, 1], [85, 4, 0, 12, 14, 1], [223, 8, 2, 30, 14, 1], [707, 43, 19, 61, 29, 1], [971, 50, 13, 107, 17, 1], [202, 10, 4, 22, 15, 1], [181, 12, 3, 30, 18, 1], [393, 16, 5, 54, 18, 1], [138, 6, 1, 18, 17, 1], [1001, 46, 14, 87, 16, 1], [288, 15, 3, 32, 13, 1], [201, 14, 4, 19, 13, 1], [140, 4, 1, 13, 12, 1], [514, 32, 3, 61, 18, 1], [157, 9, 0, 12, 13, 1], [711, 45, 14, 73, 22, 1], [922, 35, 13, 95, 15, 1], [222, 9, 3, 30, 18, 1], [722, 32, 12, 79, 18, 1], [784, 46, 11, 97, 16, 1], [69, 4, 1, 7, 17, 1], [1360, 89, 23, 157, 21, 1], [386, 14, 3, 42, 14, 1], [537, 34, 6, 66, 19, 1], [754, 63, 10, 92, 14, 1], [172, 3, 1, 26, 19, 1], [230, 7, 6, 25, 19, 1], [913, 56, 30, 80, 19, 1], [229, 16, 5, 32, 45, 1], [107, 2, 3, 7, 21, 1], [298, 11, 3, 35, 18, 1], [116, 6, 0, 18, 16, 1], [287, 20, 3, 30, 31, 1], [562, 27, 6, 69, 16, 1], [365, 20, 6, 45, 24, 1], [320, 16, 1, 32, 11, 1], [150, 5, 0, 15, 18, 1], [1039, 49, 12, 119, 15, 1], [962, 51, 6, 126, 16, 1], [109, 2, 3, 13, 15, 1], [449, 24, 9, 36, 10, 1], [565, 39, 9, 54, 13, 1], [262, 11, 10, 35, 18, 1], [197, 8, 0, 23, 17, 1], [124, 8, 0, 14, 15, 1], [234, 11, 2, 22, 19, 1], [373, 16, 5, 45, 17, 1], [216, 8, 4, 18, 12, 1], [588, 36, 15, 45, 13, 1], [611, 35, 7, 88, 20, 1], [151, 10, 1, 14, 13, 1], [866, 56, 24, 90, 18, 1], [127, 9, 2, 16, 21, 1], [130, 4, 1, 18, 16, 1], [392, 15, 2, 34, 17, 1], [1439, 105, 27, 171, 31, 1], [276, 11, 5, 35, 39, 1], [1352, 76, 32, 120, 21, 1], [813, 44, 13, 108, 21, 1], [346, 16, 8, 37, 21, 1], [670, 36, 14, 65, 15, 1], [594, 30, 3, 49, 34, 1], [245, 21, 4, 24, 17, 1], [247, 16, 7, 29, 13, 1], [854, 40, 16, 102, 21, 1], [1237, 86, 24, 119, 23, 1], [105, 6, 1, 9, 13, 1], [1132, 85, 19, 98, 13, 1], [355, 26, 8, 39, 27, 1], [257, 5, 2, 29, 14, 1], [192, 6, 1, 23, 12, 1], [244, 17, 7, 29, 20, 1], [879, 41, 21, 87, 16, 1], [783, 33, 6, 87, 17, 1], [100, 2, 2, 9, 9, 1], [273, 12, 1, 32, 16, 1], [258, 7, 8, 32, 23, 1], [337, 17, 3, 38, 15, 1], [221, 8, 1, 19, 17, 1], [128, 3, 2, 12, 14, 1], [771, 40, 8, 83, 15, 1], [198, 19, 2, 23, 19, 1], [1039, 58, 17, 84, 25, 1], [1230, 56, 18, 131, 16, 1], [877, 59, 16, 106, 20, 1], [615, 31, 14, 71, 16, 1], [159, 6, 1, 22, 17, 1], [646, 43, 16, 79, 12, 1], [599, 33, 7, 72, 23, 1], [331, 12, 4, 34, 18, 1], [171, 4, 5, 20, 15, 1], [340, 22, 4, 38, 17, 1], [1174, 74, 21, 116, 17, 1], [740, 39, 18, 95, 18, 1], [269, 14, 6, 28, 19, 1], [124, 2, 4, 15, 13, 1], [155, 8, 1, 12, 12, 1], [651, 52, 10, 62, 14, 1], [188, 6, 5, 19, 13, 1], [784, 52, 13, 79, 16, 1], [1351, 101, 24, 160, 33, 1], [341, 17, 7, 44, 18, 1], [547, 18, 9, 52, 17, 1], [480, 18, 3, 51, 60, 1], [86, 6, 0, 14, 17, 1], [706, 41, 8, 83, 20, 1], [433, 19, 6, 47, 15, 1], [120, 11, 0, 15, 20, 1], [441, 12, 5, 48, 19, 1], [764, 68, 17, 89, 14, 1], [75, 5, 0, 10, 15, 1], [677, 37, 10, 68, 14, 1], [496, 16, 25, 53, 16, 1], [550, 43, 7, 57, 21, 1], [138, 3, 1, 15, 13, 1], [114, 9, 0, 12, 14, 1], [964, 30, 9, 113, 26, 1], [225, 4, 0, 25, 18, 1], [230, 11, 9, 24, 19, 1], [740, 53, 16, 75, 30, 1], [93, 5, 1, 9, 15, 1], [590, 26, 6, 45, 13, 1], [353, 7, 4, 36, 14, 1], [954, 39, 12, 100, 24, 1], [2636, 150, 41, 268, 14, 1], [697, 33, 11, 84, 17, 1], [966, 55, 18, 93, 13, 1], [575, 27, 11, 66, 28, 1], [117, 10, 2, 11, 10, 1], [292, 15, 5, 28, 17, 1], [429, 17, 8, 41, 23, 1], [650, 26, 15, 65, 19, 1], [309, 16, 5, 33, 13, 1], [236, 18, 2, 27, 12, 1], [206, 5, 4, 23, 15, 1], [304, 16, 3, 32, 20, 1], [805, 45, 13, 83, 21, 1], [1498, 89, 35, 170, 24, 1], [922, 49, 19, 94, 26, 1], [683, 28, 9, 78, 15, 1], [101, 3, 1, 13, 10, 1], [570, 33, 13, 56, 15, 1], [148, 3, 0, 14, 18, 1], [548, 17, 6, 68, 27, 1], [880, 53, 19, 104, 19, 1], [676, 31, 10, 79, 15, 1], [379, 25, 2, 54, 16, 1], [73, 3, 0, 8, 14, 1], [476, 39, 5, 51, 12, 1], [730, 47, 17, 67, 18, 1], [849, 48, 11, 82, 16, 1], [350, 12, 5, 42, 6, 1], [497, 29, 5, 54, 19, 1], [179, 8, 2, 21, 11, 1], [1032, 52, 27, 133, 33, 1], [1671, 109, 51, 187, 37, 1], [671, 40, 16, 87, 22, 1], [597, 41, 7, 81, 19, 1], [187, 6, 4, 23, 15, 1], [172, 5, 1, 17, 15, 1], [154, 7, 0, 18, 15, 1], [540, 30, 13, 58, 24, 1], [465, 23, 5, 40, 38, 1], [156, 3, 2, 15, 26, 1], [361, 21, 7, 43, 24, 1], [381, 24, 3, 39, 13, 1], [987, 56, 16, 115, 15, 1], [1015, 62, 28, 109, 23, 1], [119, 3, 2, 11, 19, 1], [204, 9, 4, 24, 22, 1], [157, 8, 2, 17, 9, 1], [431, 22, 8, 50, 14, 1], [619, 36, 11, 64, 16, 1], [76, 2, 2, 8, 19, 1], [164, 2, 1, 24, 20, 1], [1313, 73, 28, 146, 19, 1], [330, 14, 10, 43, 16, 1], [520, 19, 3, 64, 18, 1], [511, 19, 7, 67, 21, 1], [373, 17, 3, 37, 16, 1], [125, 11, 2, 12, 11, 1], [644, 36, 5, 67, 15, 1], [491, 24, 4, 68, 30, 1], [619, 45, 8, 67, 18, 1], [833, 43, 7, 81, 20, 1], [911, 39, 22, 97, 18, 1], [560, 24, 7, 66, 16, 1], [328, 20, 7, 44, 36, 1], [390, 21, 7, 33, 32, 1], [1851, 102, 29, 218, 15, 1], [793, 47, 12, 92, 25, 1], [139, 4, 2, 15, 15, 1], [313, 21, 2, 40, 17, 1], [153, 8, 0, 14, 15, 1], [319, 20, 4, 44, 22, 1], [225, 11, 3, 26, 14, 1], [348, 19, 7, 34, 21, 1], [364, 25, 10, 43, 20, 1], [920, 63, 18, 103, 16, 1], [424, 23, 8, 54, 23, 1], [148, 9, 2, 15, 10, 1], [521, 19, 4, 42, 15, 1], [2981, 146, 47, 303, 35, 1], [157, 5, 0, 15, 13, 1], [392, 18, 1, 48, 21, 1], [333, 27, 4, 38, 25, 1], [230, 12, 2, 22, 28, 1], [115, 5, 4, 14, 19, 1], [1200, 61, 17, 114, 37, 1], [237, 9, 1, 30, 16, 1], [545, 28, 5, 38, 18, 1], [353, 28, 5, 40, 18, 1], [1001, 76, 15, 101, 16, 1], [457, 22, 7, 53, 41, 1], [126, 5, 1, 16, 14, 1], [565, 16, 12, 59, 15, 1], [1376, 106, 29, 188, 28, 1], [162, 6, 2, 21, 11, 1], [209, 14, 3, 18, 23, 1], [599, 42, 6, 88, 23, 1], [109, 6, 1, 13, 15, 1], [350, 12, 5, 42, 6, 1], [241, 16, 3, 27, 13, 1], [667, 35, 8, 60, 15, 1], [233, 14, 3, 13, 29, 1], [436, 28, 7, 56, 33, 1], [510, 14, 5, 49, 30, 1], [207, 19, 9, 24, 29, 1], [162, 6, 3, 13, 16, 1], [380, 23, 4, 53, 18, 1], [491, 24, 4, 68, 30, 1], [825, 39, 16, 98, 15, 1], [223, 13, 4, 24, 15, 1], [735, 57, 15, 82, 16, 1], [993, 55, 29, 108, 17, 1], [1634, 87, 34, 180, 22, 1], [264, 13, 2, 36, 15, 1], [344, 17, 5, 35, 16, 1], [1015, 55, 33, 89, 15, 1], [95, 5, 1, 7, 15, 1], [834, 52, 16, 89, 36, 1], [925, 74, 16, 103, 26, 1], [366, 20, 7, 49, 22, 1], [180, 4, 3, 16, 12, 1], [1009, 37, 16, 98, 25, 1], [369, 12, 3, 46, 19, 1], [241, 10, 7, 26, 34, 1], [707, 41, 12, 71, 16, 1], [805, 31, 17, 85, 15, 1], [747, 53, 11, 102, 24, 1], [155, 3, 2, 19, 14, 1], [1040, 57, 24, 121, 16, 1], [67, 0, 0, 11, 16, 1], [216, 5, 3, 28, 24, 1], [171, 7, 2, 24, 21, 1], [335, 13, 5, 32, 15, 1], [150, 13, 1, 14, 13, 1], [665, 32, 20, 67, 17, 1], [530, 36, 13, 76, 33, 1], [522, 39, 7, 71, 20, 1], [1187, 72, 28, 159, 23, 1], [386, 22, 3, 43, 24, 1], [413, 19, 5, 51, 15, 1], [828, 46, 10, 105, 19, 1], [1693, 85, 41, 195, 26, 1], [844, 40, 12, 72, 36, 1], [634, 46, 10, 65, 15, 1], [270, 12, 8, 35, 20, 1], [781, 45, 12, 77, 17, 1], [545, 23, 4, 69, 17, 1], [486, 19, 9, 60, 18, 1], [880, 53, 19, 104, 19, 1], [911, 52, 32, 80, 15, 1], [615, 30, 11, 55, 29, 1], [213, 19, 1, 23, 12, 1], [325, 13, 4, 43, 17, 1], [394, 24, 3, 55, 20, 1], [294, 16, 1, 31, 17, 1], [236, 11, 2, 25, 23, 1], [282, 17, 8, 36, 12, 1], [485, 11, 5, 46, 10, 1], [2243, 104, 59, 234, 49, 1], [465, 27, 1, 48, 17, 1], [231, 7, 5, 32, 16, 1], [191, 8, 5, 15, 14, 1], [186, 9, 2, 19, 16, 1], [527, 25, 4, 46, 12, 1], [677, 26, 9, 78, 29, 1], [190, 11, 6, 20, 15, 1], [504, 27, 9, 55, 18, 1], [641, 25, 6, 61, 13, 1], [374, 21, 3, 49, 24, 1], [429, 24, 16, 45, 17, 1], [1026, 68, 30, 111, 17, 1], [212, 12, 5, 24, 17, 1], [847, 41, 10, 66, 35, 1], [451, 32, 3, 58, 19, 1], [1606, 93, 22, 175, 18, 1], [151, 5, 0, 17, 18, 1], [736, 46, 13, 93, 19, 1], [882, 55, 17, 89, 33, 1], [107, 7, 4, 14, 10, 1], [447, 25, 11, 42, 16, 1], [644, 23, 7, 78, 23, 1], [426, 23, 14, 50, 25, 1], [1445, 108, 22, 186, 17, 1], [981, 60, 14, 109, 16, 1], [442, 26, 5, 46, 21, 1], [917, 65, 19, 97, 22, 1], [828, 46, 15, 88, 18, 1], [254, 11, 4, 19, 11, 1], [1016, 36, 19, 103, 21, 1], [958, 71, 21, 98, 21, 1], [1282, 71, 19, 157, 18, 1], [150, 4, 1, 13, 16, 1], [265, 7, 4, 34, 17, 1], [163, 7, 2, 22, 20, 1], [2048, 127, 50, 216, 20, 1], [491, 30, 10, 55, 24, 1], [573, 30, 6, 75, 16, 1], [230, 11, 1, 29, 17, 1], [776, 54, 10, 83, 16, 1], [571, 38, 29, 43, 8, 1], [103, 7, 1, 10, 12, 1], [174, 5, 3, 23, 15, 1], [326, 23, 3, 32, 15, 1], [111, 5, 1, 12, 15, 1], [1356, 73, 23, 147, 27, 1], [618, 24, 10, 52, 38, 1], [443, 17, 2, 41, 13, 1], [942, 70, 23, 92, 22, 1], [860, 49, 14, 100, 20, 1], [272, 14, 5, 32, 17, 1], [151, 4, 1, 22, 18, 1], [188, 7, 6, 21, 23, 1], [431, 18, 5, 51, 28, 1], [77, 2, 0, 4, 7, 1], [183, 6, 3, 9, 30, 1], [747, 51, 11, 77, 14, 1], [2003, 109, 62, 198, 19, 1], [173, 7, 5, 21, 19, 1], [651, 27, 19, 69, 22, 1], [136, 4, 0, 3, 27, 1], [469, 16, 9, 49, 26, 1], [400, 11, 8, 54, 15, 1], [1111, 61, 18, 107, 16, 1], [348, 19, 11, 38, 15, 1], [1991, 111, 48, 235, 24, 1], [301, 16, 5, 42, 14, 1], [220, 6, 2, 28, 13, 1], [1294, 87, 11, 130, 34, 1], [1611, 99, 17, 162, 14, 1], [255, 11, 2, 26, 21, 1], [211, 18, 0, 24, 17, 1], [1313, 90, 29, 119, 34, 1], [538, 31, 4, 63, 17, 1], [289, 16, 2, 25, 26, 1], [604, 24, 2, 78, 22, 1], [1005, 62, 18, 110, 18, 1], [844, 45, 21, 82, 31, 1], [127, 4, 2, 13, 18, 1], [243, 16, 7, 27, 24, 1], [1661, 79, 12, 199, 22, 1], [925, 43, 23, 86, 20, 1], [251, 11, 1, 30, 10, 1], [237, 7, 2, 26, 33, 1], [223, 11, 4, 24, 17, 1], [352, 15, 9, 49, 17, 1], [244, 12, 7, 23, 15, 1], [577, 21, 5, 61, 18, 1], [103, 7, 0, 7, 17, 1], [266, 14, 1, 40, 24, 1], [116, 2, 1, 12, 8, 1], [389, 28, 2, 42, 16, 1], [225, 9, 3, 23, 14, 1], [238, 13, 6, 32, 26, 1], [407, 16, 5, 43, 21, 1], [628, 35, 11, 62, 23, 1], [207, 11, 4, 24, 17, 1], [164, 11, 2, 18, 18, 1], [513, 21, 6, 64, 17, 1], [154, 8, 4, 17, 19, 1], [960, 62, 13, 124, 19, 1], [375, 10, 3, 35, 20, 1], [722, 52, 9, 76, 25, 1], [913, 66, 29, 88, 32, 1], [571, 26, 9, 57, 11, 1], [696, 34, 7, 93, 24, 1], [446, 31, 7, 61, 31, 1], [180, 8, 2, 24, 16, 1], [353, 12, 6, 36, 25, 1], [1163, 47, 26, 127, 19, 1], [503, 37, 8, 63, 16, 1], [781, 50, 14, 91, 15, 1], [195, 10, 5, 22, 15, 1], [1002, 57, 17, 94, 13, 1], [599, 39, 13, 58, 15, 1], [1086, 46, 12, 103, 19, 1], [1257, 69, 18, 144, 32, 1], [140, 7, 0, 9, 20, 1], [1072, 52, 37, 83, 22, 1], [1474, 77, 30, 161, 23, 1], [944, 43, 16, 112, 19, 1], [1238, 78, 31, 110, 29, 1], [152, 6, 1, 18, 21, 1], [372, 20, 7, 45, 15, 1], [314, 14, 0, 35, 17, 1], [395, 13, 8, 58, 13, 1], [177, 3, 4, 17, 8, 1], [734, 19, 11, 66, 15, 1], [375, 25, 6, 48, 17, 1], [1671, 152, 39, 191, 27, 1], [2042, 114, 33, 198, 23, 1], [185, 9, 1, 25, 37, 1], [310, 12, 2, 30, 13, 1], [112, 6, 1, 17, 18, 1], [731, 52, 18, 59, 17, 1], [141, 8, 0, 13, 15, 1], [304, 10, 6, 41, 21, 1], [2182, 133, 32, 250, 16, 1], [745, 40, 17, 79, 14, 1], [1961, 134, 60, 181, 23, 1], [481, 17, 9, 45, 17, 1], [101, 8, 1, 8, 14, 1], [732, 40, 12, 66, 14, 1], [298, 13, 3, 44, 18, 1], [965, 65, 16, 103, 17, 1], [258, 25, 3, 17, 21, 1], [1019, 38, 22, 115, 23, 1], [854, 44, 16, 83, 18, 1], [211, 9, 2, 27, 19, 1], [509, 27, 2, 63, 26, 1], [222, 11, 2, 17, 11, 1], [734, 35, 14, 66, 19, 1], [622, 31, 11, 70, 17, 1], [501, 27, 6, 62, 11, 1], [615, 26, 9, 54, 14, 1], [114, 5, 0, 16, 8, 1], [749, 35, 4, 55, 14, 1], [428, 19, 11, 37, 19, 1], [686, 35, 21, 83, 17, 1], [128, 6, 1, 17, 11, 1], [183, 5, 4, 21, 15, 1], [168, 7, 1, 16, 15, 1], [991, 58, 9, 104, 13, 1], [641, 33, 9, 67, 12, 1], [153, 7, 0, 13, 13, 1], [376, 25, 7, 38, 31, 1], [1215, 74, 35, 130, 21, 1], [529, 32, 7, 66, 23, 1], [1210, 64, 23, 125, 31, 1], [824, 46, 10, 103, 21, 1], [388, 16, 3, 37, 14, 1], [1448, 72, 28, 156, 22, 1], [2245, 144, 41, 298, 17, 2], [1051, 55, 24, 121, 22, 2], [1169, 87, 20, 122, 21, 2], [640, 33, 13, 78, 23, 2], [930, 77, 26, 98, 21, 2], [878, 63, 27, 85, 21, 2], [770, 37, 15, 97, 16, 2], [540, 41, 14, 62, 23, 2], [832, 51, 20, 73, 20, 2], [986, 45, 24, 102, 18, 2], [1483, 85, 40, 141, 12, 2], [4032, 237, 82, 368, 14, 2], [939, 32, 30, 110, 14, 2], [897, 52, 23, 88, 24, 2], [1300, 100, 30, 163, 19, 2], [1299, 77, 29, 135, 19, 2], [1378, 88, 32, 153, 25, 2], [1495, 71, 38, 143, 39, 2], [888, 42, 19, 97, 21, 2], [1090, 68, 25, 112, 27, 2], [1953, 102, 39, 190, 19, 2], [880, 37, 22, 113, 19, 2], [185, 11, 2, 24, 23, 2], [1083, 55, 21, 118, 22, 2], [1439, 89, 32, 162, 16, 2], [533, 24, 11, 40, 29, 2], [884, 65, 24, 88, 26, 2], [820, 51, 14, 83, 17, 2], [662, 55, 6, 71, 18, 2], [846, 54, 7, 85, 12, 2], [2380, 135, 33, 296, 16, 2], [331, 22, 6, 36, 9, 2], [1885, 90, 20, 195, 20, 2], [651, 34, 8, 61, 17, 2], [452, 17, 13, 40, 17, 2], [2171, 141, 48, 212, 19, 2], [1136, 51, 19, 100, 13, 2], [1715, 99, 34, 174, 27, 2], [1335, 64, 38, 140, 16, 2], [1066, 84, 24, 108, 26, 2], [1675, 107, 47, 150, 12, 2], [552, 36, 14, 58, 13, 2], [1228, 60, 27, 117, 23, 2], [1577, 97, 51, 141, 11, 2], [1099, 69, 29, 111, 20, 2], [942, 48, 38, 119, 17, 2], [931, 61, 35, 93, 18, 2], [253, 7, 5, 24, 14, 2], [867, 55, 20, 88, 16, 2], [920, 49, 24, 93, 21, 2], [997, 56, 17, 111, 23, 2], [985, 57, 12, 95, 17, 2], [1043, 61, 25, 112, 22, 2], [956, 47, 23, 100, 19, 2], [1073, 66, 16, 109, 18, 2], [1317, 70, 37, 140, 21, 2], [580, 41, 12, 47, 14, 2], [1639, 102, 42, 156, 15, 2], [1096, 58, 13, 126, 21, 2], [922, 65, 19, 94, 16, 2], [1423, 89, 22, 214, 23, 2], [839, 46, 23, 102, 20, 2], [1019, 49, 26, 113, 31, 2], [738, 42, 11, 84, 25, 2], [946, 58, 19, 98, 19, 2], [917, 57, 22, 104, 20, 2], [1469, 80, 12, 147, 20, 2], [457, 40, 16, 51, 25, 2], [1095, 60, 22, 129, 20, 2], [1150, 63, 38, 120, 23, 2], [788, 53, 19, 100, 18, 2], [2589, 120, 59, 238, 22, 2], [794, 57, 21, 82, 20, 2], [2965, 184, 95, 290, 17, 2], [1678, 87, 34, 164, 17, 2], [661, 30, 13, 75, 20, 2], [3575, 214, 60, 382, 19, 2], [1509, 88, 55, 176, 26, 2], [1013, 66, 17, 95, 26, 2], [863, 57, 15, 115, 22, 2], [1329, 112, 27, 181, 24, 2], [242, 9, 2, 27, 18, 2], [683, 31, 12, 80, 13, 2], [959, 57, 19, 103, 14, 2], [1012, 68, 18, 111, 28, 2], [880, 34, 27, 109, 25, 2], [950, 50, 15, 92, 16, 2], [102, 8, 0, 12, 20, 2], [927, 37, 30, 103, 14, 2], [1069, 64, 24, 99, 18, 2], [825, 59, 12, 62, 18, 2], [199, 5, 3, 24, 18, 2], [1658, 94, 33, 189, 16, 2], [640, 42, 8, 78, 22, 2], [1052, 71, 14, 99, 25, 2], [1141, 76, 28, 107, 30, 2], [636, 45, 10, 62, 10, 2], [903, 69, 15, 103, 14, 2], [1155, 60, 26, 97, 18, 2], [323, 14, 6, 32, 19, 2], [1076, 67, 28, 144, 18, 2], [1545, 89, 35, 172, 39, 2], [748, 50, 18, 90, 16, 2], [1454, 77, 21, 154, 42, 2], [1538, 87, 29, 165, 22, 2], [506, 25, 15, 63, 26, 2], [1302, 72, 31, 148, 17, 2], [1140, 66, 30, 121, 15, 2], [840, 58, 13, 81, 30, 2], [112, 4, 3, 12, 9, 2], [888, 50, 22, 80, 16, 2], [1104, 56, 24, 117, 28, 2], [1494, 67, 25, 168, 18, 2], [1175, 75, 32, 132, 17, 2], [473, 34, 11, 53, 21, 2], [374, 11, 6, 43, 24, 2], [882, 70, 22, 81, 16, 2], [238, 17, 3, 27, 12, 2], [836, 50, 12, 92, 19, 2], [1327, 82, 33, 139, 17, 2], [897, 36, 16, 104, 23, 2], [671, 55, 19, 52, 15, 2], [930, 46, 21, 105, 31, 2], [636, 43, 19, 71, 15, 2], [272, 17, 7, 29, 22, 2], [955, 59, 19, 92, 19, 2], [333, 20, 7, 28, 33, 2], [710, 46, 20, 66, 22, 2], [1239, 76, 36, 136, 17, 2], [2191, 123, 50, 239, 56, 2], [214, 11, 7, 20, 23, 2], [754, 42, 15, 92, 24, 2], [1084, 80, 23, 128, 18, 2], [243, 11, 3, 34, 22, 2], [1670, 94, 45, 181, 16, 2], [1003, 64, 25, 121, 18, 2], [1268, 62, 29, 144, 32, 2], [622, 41, 9, 66, 31, 2], [1529, 76, 38, 139, 23, 2], [697, 49, 15, 88, 23, 2], [453, 28, 6, 51, 22, 2], [1079, 78, 22, 92, 22, 2], [673, 42, 13, 65, 14, 2], [1295, 57, 19, 124, 13, 2], [984, 57, 11, 104, 28, 2], [1258, 72, 24, 141, 28, 2], [1018, 64, 29, 134, 28, 2], [264, 14, 4, 32, 15, 2], [1481, 70, 31, 148, 32, 2], [864, 52, 22, 85, 16, 2], [1002, 52, 32, 94, 14, 2], [476, 32, 11, 57, 15, 2], [700, 48, 20, 78, 26, 2], [1882, 91, 29, 189, 16, 2], [870, 58, 14, 90, 27, 2], [1175, 74, 28, 102, 17, 2], [1032, 51, 13, 118, 26, 2], [1357, 79, 22, 171, 21, 2], [856, 36, 24, 87, 20, 2], [1275, 72, 45, 113, 14, 2], [982, 45, 39, 117, 17, 2], [1421, 88, 36, 169, 19, 2], [851, 77, 14, 95, 19, 2], [954, 52, 22, 100, 23, 2], [665, 43, 12, 65, 16, 2], [1145, 80, 29, 130, 22, 2], [923, 45, 20, 96, 18, 2], [1104, 71, 22, 118, 14, 2], [1092, 54, 46, 106, 15, 2], [355, 22, 11, 29, 17, 2], [396, 14, 8, 48, 22, 2], [813, 58, 16, 79, 15, 2], [934, 40, 14, 101, 18, 2], [900, 57, 22, 116, 16, 2], [568, 32, 10, 80, 24, 2], [754, 51, 11, 109, 18, 2], [984, 65, 18, 107, 37, 2], [1027, 66, 23, 102, 15, 2], [1051, 70, 36, 93, 12, 2], [1094, 71, 13, 116, 20, 2], [769, 55, 14, 88, 19, 2], [482, 26, 4, 60, 20, 2], [819, 44, 17, 85, 26, 2], [1336, 67, 29, 175, 31, 2], [364, 19, 2, 32, 19, 2], [1070, 66, 36, 117, 15, 2], [996, 55, 20, 99, 16, 2], [702, 40, 5, 88, 22, 2], [933, 46, 21, 94, 21, 2], [1445, 89, 18, 164, 25, 2], [921, 50, 24, 93, 20, 2], [2785, 180, 60, 327, 20, 2], [660, 35, 9, 68, 17, 2], [924, 46, 13, 109, 28, 2], [1166, 62, 17, 122, 38, 2], [282, 16, 4, 33, 16, 2], [1056, 67, 19, 108, 19, 2], [970, 59, 24, 78, 48, 2], [1029, 50, 24, 113, 23, 2], [932, 42, 16, 94, 44, 2], [934, 58, 27, 93, 19, 2], [854, 51, 10, 83, 16, 2], [1913, 126, 53, 157, 13, 2], [740, 38, 25, 101, 29, 2], [1064, 66, 40, 118, 21, 2], [459, 15, 5, 67, 19, 2], [1512, 94, 23, 157, 44, 2], [142, 7, 2, 17, 12, 2], [1153, 87, 19, 132, 22, 2], [573, 27, 7, 65, 22, 2], [1051, 55, 18, 109, 23, 2], [1555, 122, 21, 164, 17, 2], [650, 27, 19, 79, 19, 2], [1316, 83, 29, 142, 17, 2], [1684, 78, 58, 165, 17, 2], [1419, 66, 38, 168, 22, 2], [886, 25, 21, 105, 18, 2], [1033, 46, 42, 94, 15, 2], [1093, 59, 21, 116, 14, 2], [942, 57, 29, 86, 18, 2], [1489, 68, 32, 148, 26, 2], [1658, 109, 26, 206, 17, 2], [1566, 112, 34, 178, 20, 2], [1146, 68, 19, 113, 18, 2], [813, 41, 22, 83, 20, 2], [1162, 72, 22, 129, 19, 2], [186, 8, 5, 22, 8, 2], [595, 25, 10, 62, 14, 2], [952, 55, 19, 126, 32, 2], [819, 46, 17, 70, 19, 2], [1043, 63, 32, 138, 23, 2], [799, 46, 14, 75, 14, 2], [1875, 123, 56, 217, 25, 2], [937, 54, 11, 86, 15, 2], [748, 40, 12, 89, 24, 2], [812, 32, 13, 86, 21, 2], [837, 66, 30, 81, 14, 2], [1070, 54, 23, 109, 22, 2], [669, 39, 17, 81, 15, 2], [1025, 54, 12, 120, 31, 2], [2238, 132, 66, 204, 18, 2], [852, 46, 32, 90, 20, 2], [2442, 132, 36, 263, 19, 2], [489, 15, 13, 54, 19, 2], [551, 35, 9, 61, 22, 2], [312, 10, 5, 33, 24, 2], [1821, 126, 55, 211, 23, 2], [662, 51, 21, 73, 17, 2], [612, 23, 8, 76, 20, 2], [635, 36, 3, 67, 15, 2], [874, 50, 28, 75, 14, 2], [914, 66, 14, 100, 16, 2], [660, 35, 23, 71, 14, 2], [1010, 55, 30, 103, 19, 2], [1220, 78, 21, 129, 18, 2], [1203, 65, 29, 138, 20, 2], [1521, 74, 36, 186, 14, 2], [1090, 77, 17, 112, 17, 2], [496, 24, 6, 49, 14, 2], [2217, 140, 71, 182, 11, 2], [791, 48, 15, 77, 19, 2], [1047, 75, 37, 129, 17, 2], [636, 24, 18, 70, 15, 2], [471, 30, 6, 45, 16, 2], [1116, 77, 28, 124, 24, 2], [918, 53, 11, 97, 25, 2], [704, 39, 15, 81, 16, 2], [1141, 68, 27, 136, 25, 2], [810, 31, 19, 85, 73, 2], [505, 21, 9, 53, 18, 2], [1522, 53, 26, 158, 21, 2], [1055, 44, 9, 110, 19, 2], [717, 33, 12, 83, 19, 2], [814, 45, 30, 86, 23, 2], [781, 57, 14, 76, 22, 2], [359, 33, 12, 44, 16, 2], [903, 48, 31, 97, 18, 2], [552, 30, 11, 71, 18, 2], [1418, 79, 36, 130, 19, 2], [1396, 90, 45, 140, 15, 2], [908, 61, 30, 95, 16, 2], [666, 21, 16, 69, 23, 2], [4283, 217, 70, 473, 22, 2], [686, 31, 7, 75, 18, 2], [883, 45, 15, 104, 17, 2], [837, 51, 16, 84, 11, 2], [885, 66, 17, 110, 19, 2], [2176, 146, 42, 232, 17, 2], [1077, 62, 28, 99, 13, 2], [938, 56, 19, 139, 21, 2], [1038, 64, 33, 95, 15, 2], [466, 26, 8, 55, 16, 2], [624, 25, 8, 43, 31, 2], [1459, 90, 29, 143, 21, 2], [909, 42, 20, 116, 21, 2], [1106, 63, 16, 118, 16, 2], [731, 35, 16, 73, 21, 2], [1088, 65, 37, 126, 16, 2], [865, 47, 20, 87, 24, 2], [459, 20, 11, 59, 25, 2], [194, 13, 1, 18, 7, 2], [900, 52, 16, 98, 16, 2], [834, 40, 22, 89, 14, 2], [109, 2, 1, 9, 12, 2], [767, 33, 13, 87, 16, 2], [930, 60, 31, 90, 21, 2], [1099, 61, 21, 125, 19, 2], [752, 48, 22, 79, 16, 2], [746, 37, 17, 65, 18, 2], [930, 47, 33, 97, 15, 2], [1040, 61, 26, 128, 21, 2], [655, 33, 9, 57, 16, 2], [580, 37, 8, 69, 21, 2], [231, 14, 4, 25, 12, 2], [129, 4, 2, 13, 11, 2], [833, 37, 24, 96, 16, 2], [654, 36, 8, 63, 19, 2], [478, 22, 2, 65, 22, 2], [921, 34, 16, 90, 21, 2], [1164, 69, 29, 126, 25, 2], [1300, 56, 18, 132, 11, 2], [2965, 184, 95, 290, 17, 2], [775, 43, 23, 84, 20, 2], [867, 55, 22, 76, 21, 2], [434, 30, 11, 47, 14, 2], [260, 10, 3, 20, 17, 2], [936, 78, 23, 91, 18, 2], [76, 3, 1, 10, 9, 2], [876, 35, 22, 72, 19, 2], [1019, 52, 38, 127, 19, 2], [1200, 61, 21, 142, 14, 2], [1535, 58, 40, 162, 18, 2], [1861, 113, 67, 200, 18, 2], [890, 34, 39, 87, 14, 2], [1003, 59, 16, 111, 25, 2], [191, 12, 4, 26, 23, 2], [984, 61, 20, 86, 13, 2], [1475, 83, 29, 146, 17, 2], [1111, 81, 33, 127, 16, 2], [419, 18, 9, 41, 17, 2], [1174, 69, 15, 98, 19, 2], [279, 11, 4, 34, 10, 2], [1366, 70, 42, 131, 15, 2], [856, 46, 9, 95, 17, 2], [883, 38, 18, 107, 22, 2], [954, 64, 28, 101, 19, 2], [741, 38, 25, 101, 29, 2], [999, 62, 34, 95, 18, 2], [803, 55, 20, 85, 19, 2], [2238, 132, 66, 204, 18, 2], [1222, 69, 35, 153, 21, 2], [2809, 175, 97, 339, 35, 2], [915, 46, 11, 107, 21, 2], [624, 36, 14, 56, 21, 2], [602, 25, 12, 71, 18, 2], [955, 63, 24, 100, 17, 2], [929, 77, 10, 105, 14, 2], [625, 31, 10, 82, 21, 2], [326, 23, 4, 32, 15, 2], [1133, 68, 15, 135, 18, 2], [926, 46, 34, 96, 24, 2], [876, 48, 26, 89, 21, 2], [1469, 82, 53, 157, 18, 2], [343, 7, 5, 28, 11, 2], [823, 43, 22, 91, 23, 2]]\n",
            "2\n"
          ],
          "name": "stdout"
        },
        {
          "output_type": "error",
          "ename": "NameError",
          "evalue": "ignored",
          "traceback": [
            "\u001b[0;31m---------------------------------------------------------------------------\u001b[0m",
            "\u001b[0;31mNameError\u001b[0m                                 Traceback (most recent call last)",
            "\u001b[0;32m<ipython-input-25-a544abc5d5c7>\u001b[0m in \u001b[0;36m<module>\u001b[0;34m()\u001b[0m\n\u001b[1;32m      7\u001b[0m \u001b[0mn_outputs\u001b[0m \u001b[0;34m=\u001b[0m \u001b[0mlen\u001b[0m\u001b[0;34m(\u001b[0m\u001b[0mset\u001b[0m\u001b[0;34m(\u001b[0m\u001b[0;34m[\u001b[0m\u001b[0mrow\u001b[0m\u001b[0;34m[\u001b[0m\u001b[0;34m-\u001b[0m\u001b[0;36m1\u001b[0m\u001b[0;34m]\u001b[0m \u001b[0;32mfor\u001b[0m \u001b[0mrow\u001b[0m \u001b[0;32min\u001b[0m \u001b[0mdata_list\u001b[0m \u001b[0;34m]\u001b[0m\u001b[0;34m)\u001b[0m\u001b[0;34m)\u001b[0m\u001b[0;34m\u001b[0m\u001b[0;34m\u001b[0m\u001b[0m\n\u001b[1;32m      8\u001b[0m \u001b[0mnetwork\u001b[0m \u001b[0;34m=\u001b[0m \u001b[0minitialize_network\u001b[0m\u001b[0;34m(\u001b[0m\u001b[0mn_inputs\u001b[0m\u001b[0;34m,\u001b[0m \u001b[0;36m2\u001b[0m\u001b[0;34m,\u001b[0m \u001b[0mn_outputs\u001b[0m\u001b[0;34m)\u001b[0m\u001b[0;34m\u001b[0m\u001b[0;34m\u001b[0m\u001b[0m\n\u001b[0;32m----> 9\u001b[0;31m \u001b[0mtrain_network\u001b[0m\u001b[0;34m(\u001b[0m\u001b[0mnetwork\u001b[0m\u001b[0;34m,\u001b[0m \u001b[0mdata_list\u001b[0m\u001b[0;34m,\u001b[0m \u001b[0;36m0.5\u001b[0m\u001b[0;34m,\u001b[0m \u001b[0;36m20\u001b[0m\u001b[0;34m,\u001b[0m \u001b[0mn_outputs\u001b[0m\u001b[0;34m)\u001b[0m\u001b[0;34m\u001b[0m\u001b[0;34m\u001b[0m\u001b[0m\n\u001b[0m\u001b[1;32m     10\u001b[0m \u001b[0;32mfor\u001b[0m \u001b[0mlayer\u001b[0m \u001b[0;32min\u001b[0m \u001b[0mnetwork\u001b[0m\u001b[0;34m:\u001b[0m\u001b[0;34m\u001b[0m\u001b[0;34m\u001b[0m\u001b[0m\n\u001b[1;32m     11\u001b[0m         \u001b[0mprint\u001b[0m\u001b[0;34m(\u001b[0m\u001b[0mlayer\u001b[0m\u001b[0;34m)\u001b[0m\u001b[0;34m\u001b[0m\u001b[0;34m\u001b[0m\u001b[0m\n",
            "\u001b[0;32m<ipython-input-24-5c0b425fd1ba>\u001b[0m in \u001b[0;36mtrain_network\u001b[0;34m(network, train, l_rate, n_epoch, n_outputs)\u001b[0m\n\u001b[1;32m      7\u001b[0m       \u001b[0mexpected\u001b[0m \u001b[0;34m=\u001b[0m \u001b[0;34m[\u001b[0m\u001b[0;36m0\u001b[0m \u001b[0;32mfor\u001b[0m \u001b[0mi\u001b[0m \u001b[0;32min\u001b[0m \u001b[0mrange\u001b[0m\u001b[0;34m(\u001b[0m\u001b[0mn_outputs\u001b[0m\u001b[0;34m)\u001b[0m\u001b[0;34m]\u001b[0m\u001b[0;34m\u001b[0m\u001b[0;34m\u001b[0m\u001b[0m\n\u001b[1;32m      8\u001b[0m       \u001b[0;32mfor\u001b[0m \u001b[0mj\u001b[0m \u001b[0;32min\u001b[0m \u001b[0mrange\u001b[0m\u001b[0;34m(\u001b[0m\u001b[0mint\u001b[0m\u001b[0;34m(\u001b[0m\u001b[0mrow\u001b[0m\u001b[0;34m[\u001b[0m\u001b[0;34m-\u001b[0m\u001b[0;36m1\u001b[0m\u001b[0;34m]\u001b[0m\u001b[0;34m)\u001b[0m\u001b[0;34m)\u001b[0m\u001b[0;34m:\u001b[0m\u001b[0;34m\u001b[0m\u001b[0;34m\u001b[0m\u001b[0m\n\u001b[0;32m----> 9\u001b[0;31m         \u001b[0mexpected\u001b[0m\u001b[0;34m[\u001b[0m\u001b[0mint\u001b[0m\u001b[0;34m(\u001b[0m\u001b[0mi\u001b[0m\u001b[0;34m)\u001b[0m\u001b[0;34m]\u001b[0m \u001b[0;34m=\u001b[0m \u001b[0;36m1\u001b[0m\u001b[0;34m\u001b[0m\u001b[0;34m\u001b[0m\u001b[0m\n\u001b[0m\u001b[1;32m     10\u001b[0m       \u001b[0msum_error\u001b[0m \u001b[0;34m+=\u001b[0m \u001b[0msum\u001b[0m\u001b[0;34m(\u001b[0m\u001b[0;34m[\u001b[0m\u001b[0;34m(\u001b[0m\u001b[0mexpected\u001b[0m\u001b[0;34m[\u001b[0m\u001b[0mi\u001b[0m\u001b[0;34m]\u001b[0m\u001b[0;34m-\u001b[0m\u001b[0moutputs\u001b[0m\u001b[0;34m[\u001b[0m\u001b[0mi\u001b[0m\u001b[0;34m]\u001b[0m\u001b[0;34m)\u001b[0m\u001b[0;34m**\u001b[0m\u001b[0;36m2\u001b[0m \u001b[0;32mfor\u001b[0m \u001b[0mi\u001b[0m \u001b[0;32min\u001b[0m \u001b[0mrange\u001b[0m\u001b[0;34m(\u001b[0m\u001b[0mlen\u001b[0m\u001b[0;34m(\u001b[0m\u001b[0mexpected\u001b[0m\u001b[0;34m)\u001b[0m\u001b[0;34m)\u001b[0m\u001b[0;34m]\u001b[0m\u001b[0;34m)\u001b[0m\u001b[0;34m\u001b[0m\u001b[0;34m\u001b[0m\u001b[0m\n\u001b[1;32m     11\u001b[0m       \u001b[0mbackward_propagate_error\u001b[0m\u001b[0;34m(\u001b[0m\u001b[0mnetwork\u001b[0m\u001b[0;34m,\u001b[0m \u001b[0mexpected\u001b[0m\u001b[0;34m)\u001b[0m\u001b[0;34m\u001b[0m\u001b[0;34m\u001b[0m\u001b[0m\n",
            "\u001b[0;31mNameError\u001b[0m: name 'i' is not defined"
          ]
        }
      ]
    },
    {
      "cell_type": "code",
      "metadata": {
        "id": "RghaQtR_2tGz"
      },
      "source": [
        "# Calculate neuron activation for an input\n",
        "def activate(weights, inputs):\n",
        "\tactivation = weights[-1]\n",
        "\tfor i in range(len(weights)-1):\n",
        "\t\tactivation += weights[i] * inputs[i]\n",
        "\treturn activation"
      ],
      "execution_count": null,
      "outputs": []
    },
    {
      "cell_type": "code",
      "metadata": {
        "id": "tGk3bkCu2vIg"
      },
      "source": [
        "# Transfer neuron activation\n",
        "def transfer(activation):\n",
        "\treturn 1.0 / (1.0 + exp(-activation))"
      ],
      "execution_count": null,
      "outputs": []
    },
    {
      "cell_type": "code",
      "metadata": {
        "id": "p4tc24PL2ydb"
      },
      "source": [
        "# Forward propagate input to a network output\n",
        "def forward_propagate(network, row):\n",
        "\tinputs = row\n",
        "\tfor layer in network:\n",
        "\t\tnew_inputs = []\n",
        "\t\tfor neuron in layer:\n",
        "\t\t\tactivation = activate(neuron['weights'], inputs)\n",
        "\t\t\tneuron['output'] = transfer(activation)\n",
        "\t\t\tnew_inputs.append(neuron['output'])\n",
        "\t\tinputs = new_inputs\n",
        "\treturn inputs"
      ],
      "execution_count": null,
      "outputs": []
    },
    {
      "cell_type": "code",
      "metadata": {
        "id": "1KzCvp6a2121"
      },
      "source": [
        "# Make a prediction with a network\n",
        "def predict(network, row):\n",
        "\toutputs = forward_propagate(network, row)\n",
        "\treturn outputs.index(max(outputs))"
      ],
      "execution_count": null,
      "outputs": []
    },
    {
      "cell_type": "code",
      "metadata": {
        "id": "b0zcM63U27mc"
      },
      "source": [
        "def accuracy_metric(actual, predicted):\n",
        "  if actual == predicted:\n",
        "    return 1 \n",
        "  else:\n",
        "    return 0"
      ],
      "execution_count": null,
      "outputs": []
    },
    {
      "cell_type": "code",
      "metadata": {
        "id": "MjEwJ5Fp29Sq"
      },
      "source": [
        "from sklearn.metrics import confusion_matrix \n",
        "from sklearn import metrics\n",
        "from sklearn.metrics import accuracy_score \n",
        "from sklearn.metrics import classification_report \n",
        "\n",
        "def cal_accuracy(y_test, y_pred): \n",
        "      \n",
        "    print(\"Confusion Matrix with size \",confusion_matrix(y_test, y_pred).shape)\n",
        "    print(confusion_matrix(y_test, y_pred))\n",
        "    print()\n",
        "      \n",
        "    print (\"Accuracy : \")\n",
        "    print(accuracy_score(y_test,y_pred)*100) \n",
        "    print()\n",
        "      \n",
        "    print(\"Report : \")\n",
        "    print(classification_report(y_test, y_pred)) \n",
        "    print()"
      ],
      "execution_count": null,
      "outputs": []
    },
    {
      "cell_type": "code",
      "metadata": {
        "colab": {
          "base_uri": "https://localhost:8080/"
        },
        "id": "NjA80Yvv3BV_",
        "outputId": "6ea2d696-449a-4aca-bec9-6281f5a4e3c4"
      },
      "source": [
        "correct = 0\n",
        "l = len(data_list)\n",
        "for row in data_list:\n",
        "  network = initialize_network(n_inputs, 2, n_outputs)\n",
        "  prediction = predict(network,row)\n",
        "  #print('Expected=%d, Got=%d' % (row[-1], prediction))\n",
        "  correct = correct + accuracy_metric(row[-1],prediction)\n",
        "print(\"Accuracy = %d%%\" %(correct / float(l) * 100.0))"
      ],
      "execution_count": null,
      "outputs": [
        {
          "output_type": "stream",
          "text": [
            "Accuracy = 49%\n"
          ],
          "name": "stdout"
        }
      ]
    },
    {
      "cell_type": "markdown",
      "metadata": {
        "id": "rBQcRnlL2BXj"
      },
      "source": [
        "Accuracy found is: 49%"
      ]
    },
    {
      "cell_type": "code",
      "metadata": {
        "colab": {
          "base_uri": "https://localhost:8080/",
          "height": 371
        },
        "id": "KTLhZpMBk3PV",
        "outputId": "4da637d7-6fbb-4b96-cb6c-10f722629f64"
      },
      "source": [
        "# Importing Libraries\n",
        "from PIL import Image\n",
        "from wordcloud import WordCloud, STOPWORDS, ImageColorGenerator\n",
        "\n",
        "import matplotlib.pyplot as plt, seaborn as sb\n",
        "from scipy.ndimage import gaussian_gradient_magnitude\n",
        "\n",
        "# Creating masks\n",
        "mask1 = np.array(Image.open(\"masks/bball.png\"))\n",
        "mask1[mask1.sum(axis=2) == 0] = 255\n",
        "\n",
        "edges = np.mean([gaussian_gradient_magnitude(mask1[:, :, i] / 255., 2) for i in range(3)], axis=0)\n",
        "mask1[edges > .08] = 255\n",
        "\n",
        "wordcloud = WordCloud(background_color = 'black', width = 800, height = 400, max_words = 140,\n",
        "                      colormap = 'hsv', max_font_size = 80, random_state = 0)\n",
        "\n",
        "wordcloud.generate(corpus)\n",
        "\n",
        "plt.figure(figsize = (20, 10))\n",
        "plt.imshow(wordcloud, interpolation = 'bilinear')\n",
        "plt.axis(\"off\")\n",
        "plt.figure()"
      ],
      "execution_count": null,
      "outputs": [
        {
          "output_type": "error",
          "ename": "FileNotFoundError",
          "evalue": "ignored",
          "traceback": [
            "\u001b[0;31m---------------------------------------------------------------------------\u001b[0m",
            "\u001b[0;31mFileNotFoundError\u001b[0m                         Traceback (most recent call last)",
            "\u001b[0;32m<ipython-input-6-389d8e55c198>\u001b[0m in \u001b[0;36m<module>\u001b[0;34m()\u001b[0m\n\u001b[1;32m      7\u001b[0m \u001b[0;34m\u001b[0m\u001b[0m\n\u001b[1;32m      8\u001b[0m \u001b[0;31m# Creating masks\u001b[0m\u001b[0;34m\u001b[0m\u001b[0;34m\u001b[0m\u001b[0;34m\u001b[0m\u001b[0m\n\u001b[0;32m----> 9\u001b[0;31m \u001b[0mmask1\u001b[0m \u001b[0;34m=\u001b[0m \u001b[0mnp\u001b[0m\u001b[0;34m.\u001b[0m\u001b[0marray\u001b[0m\u001b[0;34m(\u001b[0m\u001b[0mImage\u001b[0m\u001b[0;34m.\u001b[0m\u001b[0mopen\u001b[0m\u001b[0;34m(\u001b[0m\u001b[0;34m\"masks/bball.png\"\u001b[0m\u001b[0;34m)\u001b[0m\u001b[0;34m)\u001b[0m\u001b[0;34m\u001b[0m\u001b[0;34m\u001b[0m\u001b[0m\n\u001b[0m\u001b[1;32m     10\u001b[0m \u001b[0mmask1\u001b[0m\u001b[0;34m[\u001b[0m\u001b[0mmask1\u001b[0m\u001b[0;34m.\u001b[0m\u001b[0msum\u001b[0m\u001b[0;34m(\u001b[0m\u001b[0maxis\u001b[0m\u001b[0;34m=\u001b[0m\u001b[0;36m2\u001b[0m\u001b[0;34m)\u001b[0m \u001b[0;34m==\u001b[0m \u001b[0;36m0\u001b[0m\u001b[0;34m]\u001b[0m \u001b[0;34m=\u001b[0m \u001b[0;36m255\u001b[0m\u001b[0;34m\u001b[0m\u001b[0;34m\u001b[0m\u001b[0m\n\u001b[1;32m     11\u001b[0m \u001b[0;34m\u001b[0m\u001b[0m\n",
            "\u001b[0;32m/usr/local/lib/python3.7/dist-packages/PIL/Image.py\u001b[0m in \u001b[0;36mopen\u001b[0;34m(fp, mode)\u001b[0m\n\u001b[1;32m   2807\u001b[0m \u001b[0;34m\u001b[0m\u001b[0m\n\u001b[1;32m   2808\u001b[0m     \u001b[0;32mif\u001b[0m \u001b[0mfilename\u001b[0m\u001b[0;34m:\u001b[0m\u001b[0;34m\u001b[0m\u001b[0;34m\u001b[0m\u001b[0m\n\u001b[0;32m-> 2809\u001b[0;31m         \u001b[0mfp\u001b[0m \u001b[0;34m=\u001b[0m \u001b[0mbuiltins\u001b[0m\u001b[0;34m.\u001b[0m\u001b[0mopen\u001b[0m\u001b[0;34m(\u001b[0m\u001b[0mfilename\u001b[0m\u001b[0;34m,\u001b[0m \u001b[0;34m\"rb\"\u001b[0m\u001b[0;34m)\u001b[0m\u001b[0;34m\u001b[0m\u001b[0;34m\u001b[0m\u001b[0m\n\u001b[0m\u001b[1;32m   2810\u001b[0m         \u001b[0mexclusive_fp\u001b[0m \u001b[0;34m=\u001b[0m \u001b[0;32mTrue\u001b[0m\u001b[0;34m\u001b[0m\u001b[0;34m\u001b[0m\u001b[0m\n\u001b[1;32m   2811\u001b[0m \u001b[0;34m\u001b[0m\u001b[0m\n",
            "\u001b[0;31mFileNotFoundError\u001b[0m: [Errno 2] No such file or directory: 'masks/bball.png'"
          ]
        }
      ]
    }
  ]
}